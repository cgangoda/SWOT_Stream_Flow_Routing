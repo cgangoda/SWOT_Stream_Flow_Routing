{
  "nbformat": 4,
  "nbformat_minor": 0,
  "metadata": {
    "colab": {
      "provenance": []
    },
    "kernelspec": {
      "name": "python3",
      "display_name": "Python 3"
    },
    "language_info": {
      "name": "python"
    },
    "widgets": {
      "application/vnd.jupyter.widget-state+json": {
        "d811e0adb2be49638941f833bc88f29d": {
          "model_module": "@jupyter-widgets/controls",
          "model_name": "HBoxModel",
          "model_module_version": "1.5.0",
          "state": {
            "_dom_classes": [],
            "_model_module": "@jupyter-widgets/controls",
            "_model_module_version": "1.5.0",
            "_model_name": "HBoxModel",
            "_view_count": null,
            "_view_module": "@jupyter-widgets/controls",
            "_view_module_version": "1.5.0",
            "_view_name": "HBoxView",
            "box_style": "",
            "children": [
              "IPY_MODEL_58b4ef7121824e899c5acd24160e4232",
              "IPY_MODEL_aed665962e1e4ca88e20ea5ef491c68a",
              "IPY_MODEL_665555d5d8a748159e8ecfd4ee4ce7f0"
            ],
            "layout": "IPY_MODEL_dcac3b4da362456c8fff7b4c344568d6"
          }
        },
        "58b4ef7121824e899c5acd24160e4232": {
          "model_module": "@jupyter-widgets/controls",
          "model_name": "HTMLModel",
          "model_module_version": "1.5.0",
          "state": {
            "_dom_classes": [],
            "_model_module": "@jupyter-widgets/controls",
            "_model_module_version": "1.5.0",
            "_model_name": "HTMLModel",
            "_view_count": null,
            "_view_module": "@jupyter-widgets/controls",
            "_view_module_version": "1.5.0",
            "_view_name": "HTMLView",
            "description": "",
            "description_tooltip": null,
            "layout": "IPY_MODEL_146b1f1b092f459fa5586477c4412dc0",
            "placeholder": "​",
            "style": "IPY_MODEL_f9b46c2e6d0b423b94aba52dbf70bece",
            "value": "QUEUEING TASKS | : 100%"
          }
        },
        "aed665962e1e4ca88e20ea5ef491c68a": {
          "model_module": "@jupyter-widgets/controls",
          "model_name": "FloatProgressModel",
          "model_module_version": "1.5.0",
          "state": {
            "_dom_classes": [],
            "_model_module": "@jupyter-widgets/controls",
            "_model_module_version": "1.5.0",
            "_model_name": "FloatProgressModel",
            "_view_count": null,
            "_view_module": "@jupyter-widgets/controls",
            "_view_module_version": "1.5.0",
            "_view_name": "ProgressView",
            "bar_style": "success",
            "description": "",
            "description_tooltip": null,
            "layout": "IPY_MODEL_3e27d641f4c84672aa734aa7024c3425",
            "max": 1,
            "min": 0,
            "orientation": "horizontal",
            "style": "IPY_MODEL_f423f662b6824b969a8dae62357eb703",
            "value": 1
          }
        },
        "665555d5d8a748159e8ecfd4ee4ce7f0": {
          "model_module": "@jupyter-widgets/controls",
          "model_name": "HTMLModel",
          "model_module_version": "1.5.0",
          "state": {
            "_dom_classes": [],
            "_model_module": "@jupyter-widgets/controls",
            "_model_module_version": "1.5.0",
            "_model_name": "HTMLModel",
            "_view_count": null,
            "_view_module": "@jupyter-widgets/controls",
            "_view_module_version": "1.5.0",
            "_view_name": "HTMLView",
            "description": "",
            "description_tooltip": null,
            "layout": "IPY_MODEL_e911d131dae841f5990d0696c34162bf",
            "placeholder": "​",
            "style": "IPY_MODEL_238f05040f184ab4bb96d3d28c01bc71",
            "value": " 1/1 [00:00&lt;00:00, 66.96it/s]"
          }
        },
        "dcac3b4da362456c8fff7b4c344568d6": {
          "model_module": "@jupyter-widgets/base",
          "model_name": "LayoutModel",
          "model_module_version": "1.2.0",
          "state": {
            "_model_module": "@jupyter-widgets/base",
            "_model_module_version": "1.2.0",
            "_model_name": "LayoutModel",
            "_view_count": null,
            "_view_module": "@jupyter-widgets/base",
            "_view_module_version": "1.2.0",
            "_view_name": "LayoutView",
            "align_content": null,
            "align_items": null,
            "align_self": null,
            "border": null,
            "bottom": null,
            "display": null,
            "flex": null,
            "flex_flow": null,
            "grid_area": null,
            "grid_auto_columns": null,
            "grid_auto_flow": null,
            "grid_auto_rows": null,
            "grid_column": null,
            "grid_gap": null,
            "grid_row": null,
            "grid_template_areas": null,
            "grid_template_columns": null,
            "grid_template_rows": null,
            "height": null,
            "justify_content": null,
            "justify_items": null,
            "left": null,
            "margin": null,
            "max_height": null,
            "max_width": null,
            "min_height": null,
            "min_width": null,
            "object_fit": null,
            "object_position": null,
            "order": null,
            "overflow": null,
            "overflow_x": null,
            "overflow_y": null,
            "padding": null,
            "right": null,
            "top": null,
            "visibility": null,
            "width": null
          }
        },
        "146b1f1b092f459fa5586477c4412dc0": {
          "model_module": "@jupyter-widgets/base",
          "model_name": "LayoutModel",
          "model_module_version": "1.2.0",
          "state": {
            "_model_module": "@jupyter-widgets/base",
            "_model_module_version": "1.2.0",
            "_model_name": "LayoutModel",
            "_view_count": null,
            "_view_module": "@jupyter-widgets/base",
            "_view_module_version": "1.2.0",
            "_view_name": "LayoutView",
            "align_content": null,
            "align_items": null,
            "align_self": null,
            "border": null,
            "bottom": null,
            "display": null,
            "flex": null,
            "flex_flow": null,
            "grid_area": null,
            "grid_auto_columns": null,
            "grid_auto_flow": null,
            "grid_auto_rows": null,
            "grid_column": null,
            "grid_gap": null,
            "grid_row": null,
            "grid_template_areas": null,
            "grid_template_columns": null,
            "grid_template_rows": null,
            "height": null,
            "justify_content": null,
            "justify_items": null,
            "left": null,
            "margin": null,
            "max_height": null,
            "max_width": null,
            "min_height": null,
            "min_width": null,
            "object_fit": null,
            "object_position": null,
            "order": null,
            "overflow": null,
            "overflow_x": null,
            "overflow_y": null,
            "padding": null,
            "right": null,
            "top": null,
            "visibility": null,
            "width": null
          }
        },
        "f9b46c2e6d0b423b94aba52dbf70bece": {
          "model_module": "@jupyter-widgets/controls",
          "model_name": "DescriptionStyleModel",
          "model_module_version": "1.5.0",
          "state": {
            "_model_module": "@jupyter-widgets/controls",
            "_model_module_version": "1.5.0",
            "_model_name": "DescriptionStyleModel",
            "_view_count": null,
            "_view_module": "@jupyter-widgets/base",
            "_view_module_version": "1.2.0",
            "_view_name": "StyleView",
            "description_width": ""
          }
        },
        "3e27d641f4c84672aa734aa7024c3425": {
          "model_module": "@jupyter-widgets/base",
          "model_name": "LayoutModel",
          "model_module_version": "1.2.0",
          "state": {
            "_model_module": "@jupyter-widgets/base",
            "_model_module_version": "1.2.0",
            "_model_name": "LayoutModel",
            "_view_count": null,
            "_view_module": "@jupyter-widgets/base",
            "_view_module_version": "1.2.0",
            "_view_name": "LayoutView",
            "align_content": null,
            "align_items": null,
            "align_self": null,
            "border": null,
            "bottom": null,
            "display": null,
            "flex": null,
            "flex_flow": null,
            "grid_area": null,
            "grid_auto_columns": null,
            "grid_auto_flow": null,
            "grid_auto_rows": null,
            "grid_column": null,
            "grid_gap": null,
            "grid_row": null,
            "grid_template_areas": null,
            "grid_template_columns": null,
            "grid_template_rows": null,
            "height": null,
            "justify_content": null,
            "justify_items": null,
            "left": null,
            "margin": null,
            "max_height": null,
            "max_width": null,
            "min_height": null,
            "min_width": null,
            "object_fit": null,
            "object_position": null,
            "order": null,
            "overflow": null,
            "overflow_x": null,
            "overflow_y": null,
            "padding": null,
            "right": null,
            "top": null,
            "visibility": null,
            "width": null
          }
        },
        "f423f662b6824b969a8dae62357eb703": {
          "model_module": "@jupyter-widgets/controls",
          "model_name": "ProgressStyleModel",
          "model_module_version": "1.5.0",
          "state": {
            "_model_module": "@jupyter-widgets/controls",
            "_model_module_version": "1.5.0",
            "_model_name": "ProgressStyleModel",
            "_view_count": null,
            "_view_module": "@jupyter-widgets/base",
            "_view_module_version": "1.2.0",
            "_view_name": "StyleView",
            "bar_color": null,
            "description_width": ""
          }
        },
        "e911d131dae841f5990d0696c34162bf": {
          "model_module": "@jupyter-widgets/base",
          "model_name": "LayoutModel",
          "model_module_version": "1.2.0",
          "state": {
            "_model_module": "@jupyter-widgets/base",
            "_model_module_version": "1.2.0",
            "_model_name": "LayoutModel",
            "_view_count": null,
            "_view_module": "@jupyter-widgets/base",
            "_view_module_version": "1.2.0",
            "_view_name": "LayoutView",
            "align_content": null,
            "align_items": null,
            "align_self": null,
            "border": null,
            "bottom": null,
            "display": null,
            "flex": null,
            "flex_flow": null,
            "grid_area": null,
            "grid_auto_columns": null,
            "grid_auto_flow": null,
            "grid_auto_rows": null,
            "grid_column": null,
            "grid_gap": null,
            "grid_row": null,
            "grid_template_areas": null,
            "grid_template_columns": null,
            "grid_template_rows": null,
            "height": null,
            "justify_content": null,
            "justify_items": null,
            "left": null,
            "margin": null,
            "max_height": null,
            "max_width": null,
            "min_height": null,
            "min_width": null,
            "object_fit": null,
            "object_position": null,
            "order": null,
            "overflow": null,
            "overflow_x": null,
            "overflow_y": null,
            "padding": null,
            "right": null,
            "top": null,
            "visibility": null,
            "width": null
          }
        },
        "238f05040f184ab4bb96d3d28c01bc71": {
          "model_module": "@jupyter-widgets/controls",
          "model_name": "DescriptionStyleModel",
          "model_module_version": "1.5.0",
          "state": {
            "_model_module": "@jupyter-widgets/controls",
            "_model_module_version": "1.5.0",
            "_model_name": "DescriptionStyleModel",
            "_view_count": null,
            "_view_module": "@jupyter-widgets/base",
            "_view_module_version": "1.2.0",
            "_view_name": "StyleView",
            "description_width": ""
          }
        },
        "23bf870088a942a1a7202d72440149e3": {
          "model_module": "@jupyter-widgets/controls",
          "model_name": "HBoxModel",
          "model_module_version": "1.5.0",
          "state": {
            "_dom_classes": [],
            "_model_module": "@jupyter-widgets/controls",
            "_model_module_version": "1.5.0",
            "_model_name": "HBoxModel",
            "_view_count": null,
            "_view_module": "@jupyter-widgets/controls",
            "_view_module_version": "1.5.0",
            "_view_name": "HBoxView",
            "box_style": "",
            "children": [
              "IPY_MODEL_2e173fca9c2242db802de843b2365ee1",
              "IPY_MODEL_8c2b653bb92843caae21d22224834ceb",
              "IPY_MODEL_0b50cfea35ff4b96915a359ae3365838"
            ],
            "layout": "IPY_MODEL_4a567b0bb7684df586b58189ae12da4c"
          }
        },
        "2e173fca9c2242db802de843b2365ee1": {
          "model_module": "@jupyter-widgets/controls",
          "model_name": "HTMLModel",
          "model_module_version": "1.5.0",
          "state": {
            "_dom_classes": [],
            "_model_module": "@jupyter-widgets/controls",
            "_model_module_version": "1.5.0",
            "_model_name": "HTMLModel",
            "_view_count": null,
            "_view_module": "@jupyter-widgets/controls",
            "_view_module_version": "1.5.0",
            "_view_name": "HTMLView",
            "description": "",
            "description_tooltip": null,
            "layout": "IPY_MODEL_299ece62aa524929ba402e0d9be76361",
            "placeholder": "​",
            "style": "IPY_MODEL_129a501b7bbf409ea3a15d1fe091fa70",
            "value": "PROCESSING TASKS | : 100%"
          }
        },
        "8c2b653bb92843caae21d22224834ceb": {
          "model_module": "@jupyter-widgets/controls",
          "model_name": "FloatProgressModel",
          "model_module_version": "1.5.0",
          "state": {
            "_dom_classes": [],
            "_model_module": "@jupyter-widgets/controls",
            "_model_module_version": "1.5.0",
            "_model_name": "FloatProgressModel",
            "_view_count": null,
            "_view_module": "@jupyter-widgets/controls",
            "_view_module_version": "1.5.0",
            "_view_name": "ProgressView",
            "bar_style": "success",
            "description": "",
            "description_tooltip": null,
            "layout": "IPY_MODEL_7d55c2348ea64626b40cddb6a1fe10d9",
            "max": 1,
            "min": 0,
            "orientation": "horizontal",
            "style": "IPY_MODEL_73dfbb5ff8ef4d3284ac5506c94dbb36",
            "value": 1
          }
        },
        "0b50cfea35ff4b96915a359ae3365838": {
          "model_module": "@jupyter-widgets/controls",
          "model_name": "HTMLModel",
          "model_module_version": "1.5.0",
          "state": {
            "_dom_classes": [],
            "_model_module": "@jupyter-widgets/controls",
            "_model_module_version": "1.5.0",
            "_model_name": "HTMLModel",
            "_view_count": null,
            "_view_module": "@jupyter-widgets/controls",
            "_view_module_version": "1.5.0",
            "_view_name": "HTMLView",
            "description": "",
            "description_tooltip": null,
            "layout": "IPY_MODEL_9f2971286782428680aefa7f3fe21dfa",
            "placeholder": "​",
            "style": "IPY_MODEL_67d0c4fc0aba4c808afb2d38f580a3fe",
            "value": " 1/1 [00:07&lt;00:00,  7.73s/it]"
          }
        },
        "4a567b0bb7684df586b58189ae12da4c": {
          "model_module": "@jupyter-widgets/base",
          "model_name": "LayoutModel",
          "model_module_version": "1.2.0",
          "state": {
            "_model_module": "@jupyter-widgets/base",
            "_model_module_version": "1.2.0",
            "_model_name": "LayoutModel",
            "_view_count": null,
            "_view_module": "@jupyter-widgets/base",
            "_view_module_version": "1.2.0",
            "_view_name": "LayoutView",
            "align_content": null,
            "align_items": null,
            "align_self": null,
            "border": null,
            "bottom": null,
            "display": null,
            "flex": null,
            "flex_flow": null,
            "grid_area": null,
            "grid_auto_columns": null,
            "grid_auto_flow": null,
            "grid_auto_rows": null,
            "grid_column": null,
            "grid_gap": null,
            "grid_row": null,
            "grid_template_areas": null,
            "grid_template_columns": null,
            "grid_template_rows": null,
            "height": null,
            "justify_content": null,
            "justify_items": null,
            "left": null,
            "margin": null,
            "max_height": null,
            "max_width": null,
            "min_height": null,
            "min_width": null,
            "object_fit": null,
            "object_position": null,
            "order": null,
            "overflow": null,
            "overflow_x": null,
            "overflow_y": null,
            "padding": null,
            "right": null,
            "top": null,
            "visibility": null,
            "width": null
          }
        },
        "299ece62aa524929ba402e0d9be76361": {
          "model_module": "@jupyter-widgets/base",
          "model_name": "LayoutModel",
          "model_module_version": "1.2.0",
          "state": {
            "_model_module": "@jupyter-widgets/base",
            "_model_module_version": "1.2.0",
            "_model_name": "LayoutModel",
            "_view_count": null,
            "_view_module": "@jupyter-widgets/base",
            "_view_module_version": "1.2.0",
            "_view_name": "LayoutView",
            "align_content": null,
            "align_items": null,
            "align_self": null,
            "border": null,
            "bottom": null,
            "display": null,
            "flex": null,
            "flex_flow": null,
            "grid_area": null,
            "grid_auto_columns": null,
            "grid_auto_flow": null,
            "grid_auto_rows": null,
            "grid_column": null,
            "grid_gap": null,
            "grid_row": null,
            "grid_template_areas": null,
            "grid_template_columns": null,
            "grid_template_rows": null,
            "height": null,
            "justify_content": null,
            "justify_items": null,
            "left": null,
            "margin": null,
            "max_height": null,
            "max_width": null,
            "min_height": null,
            "min_width": null,
            "object_fit": null,
            "object_position": null,
            "order": null,
            "overflow": null,
            "overflow_x": null,
            "overflow_y": null,
            "padding": null,
            "right": null,
            "top": null,
            "visibility": null,
            "width": null
          }
        },
        "129a501b7bbf409ea3a15d1fe091fa70": {
          "model_module": "@jupyter-widgets/controls",
          "model_name": "DescriptionStyleModel",
          "model_module_version": "1.5.0",
          "state": {
            "_model_module": "@jupyter-widgets/controls",
            "_model_module_version": "1.5.0",
            "_model_name": "DescriptionStyleModel",
            "_view_count": null,
            "_view_module": "@jupyter-widgets/base",
            "_view_module_version": "1.2.0",
            "_view_name": "StyleView",
            "description_width": ""
          }
        },
        "7d55c2348ea64626b40cddb6a1fe10d9": {
          "model_module": "@jupyter-widgets/base",
          "model_name": "LayoutModel",
          "model_module_version": "1.2.0",
          "state": {
            "_model_module": "@jupyter-widgets/base",
            "_model_module_version": "1.2.0",
            "_model_name": "LayoutModel",
            "_view_count": null,
            "_view_module": "@jupyter-widgets/base",
            "_view_module_version": "1.2.0",
            "_view_name": "LayoutView",
            "align_content": null,
            "align_items": null,
            "align_self": null,
            "border": null,
            "bottom": null,
            "display": null,
            "flex": null,
            "flex_flow": null,
            "grid_area": null,
            "grid_auto_columns": null,
            "grid_auto_flow": null,
            "grid_auto_rows": null,
            "grid_column": null,
            "grid_gap": null,
            "grid_row": null,
            "grid_template_areas": null,
            "grid_template_columns": null,
            "grid_template_rows": null,
            "height": null,
            "justify_content": null,
            "justify_items": null,
            "left": null,
            "margin": null,
            "max_height": null,
            "max_width": null,
            "min_height": null,
            "min_width": null,
            "object_fit": null,
            "object_position": null,
            "order": null,
            "overflow": null,
            "overflow_x": null,
            "overflow_y": null,
            "padding": null,
            "right": null,
            "top": null,
            "visibility": null,
            "width": null
          }
        },
        "73dfbb5ff8ef4d3284ac5506c94dbb36": {
          "model_module": "@jupyter-widgets/controls",
          "model_name": "ProgressStyleModel",
          "model_module_version": "1.5.0",
          "state": {
            "_model_module": "@jupyter-widgets/controls",
            "_model_module_version": "1.5.0",
            "_model_name": "ProgressStyleModel",
            "_view_count": null,
            "_view_module": "@jupyter-widgets/base",
            "_view_module_version": "1.2.0",
            "_view_name": "StyleView",
            "bar_color": null,
            "description_width": ""
          }
        },
        "9f2971286782428680aefa7f3fe21dfa": {
          "model_module": "@jupyter-widgets/base",
          "model_name": "LayoutModel",
          "model_module_version": "1.2.0",
          "state": {
            "_model_module": "@jupyter-widgets/base",
            "_model_module_version": "1.2.0",
            "_model_name": "LayoutModel",
            "_view_count": null,
            "_view_module": "@jupyter-widgets/base",
            "_view_module_version": "1.2.0",
            "_view_name": "LayoutView",
            "align_content": null,
            "align_items": null,
            "align_self": null,
            "border": null,
            "bottom": null,
            "display": null,
            "flex": null,
            "flex_flow": null,
            "grid_area": null,
            "grid_auto_columns": null,
            "grid_auto_flow": null,
            "grid_auto_rows": null,
            "grid_column": null,
            "grid_gap": null,
            "grid_row": null,
            "grid_template_areas": null,
            "grid_template_columns": null,
            "grid_template_rows": null,
            "height": null,
            "justify_content": null,
            "justify_items": null,
            "left": null,
            "margin": null,
            "max_height": null,
            "max_width": null,
            "min_height": null,
            "min_width": null,
            "object_fit": null,
            "object_position": null,
            "order": null,
            "overflow": null,
            "overflow_x": null,
            "overflow_y": null,
            "padding": null,
            "right": null,
            "top": null,
            "visibility": null,
            "width": null
          }
        },
        "67d0c4fc0aba4c808afb2d38f580a3fe": {
          "model_module": "@jupyter-widgets/controls",
          "model_name": "DescriptionStyleModel",
          "model_module_version": "1.5.0",
          "state": {
            "_model_module": "@jupyter-widgets/controls",
            "_model_module_version": "1.5.0",
            "_model_name": "DescriptionStyleModel",
            "_view_count": null,
            "_view_module": "@jupyter-widgets/base",
            "_view_module_version": "1.2.0",
            "_view_name": "StyleView",
            "description_width": ""
          }
        },
        "c263c86da3ee4bda8034095adfbb88cb": {
          "model_module": "@jupyter-widgets/controls",
          "model_name": "HBoxModel",
          "model_module_version": "1.5.0",
          "state": {
            "_dom_classes": [],
            "_model_module": "@jupyter-widgets/controls",
            "_model_module_version": "1.5.0",
            "_model_name": "HBoxModel",
            "_view_count": null,
            "_view_module": "@jupyter-widgets/controls",
            "_view_module_version": "1.5.0",
            "_view_name": "HBoxView",
            "box_style": "",
            "children": [
              "IPY_MODEL_0c8c4c9d2627494c91587cfe5e6e7993",
              "IPY_MODEL_ee44676bfc8b4fa78d78b8680f4f3f22",
              "IPY_MODEL_d82734264e1346089cc7cb6c948b165a"
            ],
            "layout": "IPY_MODEL_f6f94fc33d5a4421be726e2c3a532ef9"
          }
        },
        "0c8c4c9d2627494c91587cfe5e6e7993": {
          "model_module": "@jupyter-widgets/controls",
          "model_name": "HTMLModel",
          "model_module_version": "1.5.0",
          "state": {
            "_dom_classes": [],
            "_model_module": "@jupyter-widgets/controls",
            "_model_module_version": "1.5.0",
            "_model_name": "HTMLModel",
            "_view_count": null,
            "_view_module": "@jupyter-widgets/controls",
            "_view_module_version": "1.5.0",
            "_view_name": "HTMLView",
            "description": "",
            "description_tooltip": null,
            "layout": "IPY_MODEL_97b5d9fed9ad4e9a80b8835f221b1ce3",
            "placeholder": "​",
            "style": "IPY_MODEL_dce7e75a301b4554bcf063d68110b81e",
            "value": "COLLECTING RESULTS | : 100%"
          }
        },
        "ee44676bfc8b4fa78d78b8680f4f3f22": {
          "model_module": "@jupyter-widgets/controls",
          "model_name": "FloatProgressModel",
          "model_module_version": "1.5.0",
          "state": {
            "_dom_classes": [],
            "_model_module": "@jupyter-widgets/controls",
            "_model_module_version": "1.5.0",
            "_model_name": "FloatProgressModel",
            "_view_count": null,
            "_view_module": "@jupyter-widgets/controls",
            "_view_module_version": "1.5.0",
            "_view_name": "ProgressView",
            "bar_style": "success",
            "description": "",
            "description_tooltip": null,
            "layout": "IPY_MODEL_a8723245eec24c91aa9574ae35b5c2d4",
            "max": 1,
            "min": 0,
            "orientation": "horizontal",
            "style": "IPY_MODEL_843a2273aa3f4f60a71c084bfb340028",
            "value": 1
          }
        },
        "d82734264e1346089cc7cb6c948b165a": {
          "model_module": "@jupyter-widgets/controls",
          "model_name": "HTMLModel",
          "model_module_version": "1.5.0",
          "state": {
            "_dom_classes": [],
            "_model_module": "@jupyter-widgets/controls",
            "_model_module_version": "1.5.0",
            "_model_name": "HTMLModel",
            "_view_count": null,
            "_view_module": "@jupyter-widgets/controls",
            "_view_module_version": "1.5.0",
            "_view_name": "HTMLView",
            "description": "",
            "description_tooltip": null,
            "layout": "IPY_MODEL_75144a0fc4d344cdb5cf59d315891e2b",
            "placeholder": "​",
            "style": "IPY_MODEL_f5ce048157ee4333a43f195af15b20ef",
            "value": " 1/1 [00:00&lt;00:00, 43.64it/s]"
          }
        },
        "f6f94fc33d5a4421be726e2c3a532ef9": {
          "model_module": "@jupyter-widgets/base",
          "model_name": "LayoutModel",
          "model_module_version": "1.2.0",
          "state": {
            "_model_module": "@jupyter-widgets/base",
            "_model_module_version": "1.2.0",
            "_model_name": "LayoutModel",
            "_view_count": null,
            "_view_module": "@jupyter-widgets/base",
            "_view_module_version": "1.2.0",
            "_view_name": "LayoutView",
            "align_content": null,
            "align_items": null,
            "align_self": null,
            "border": null,
            "bottom": null,
            "display": null,
            "flex": null,
            "flex_flow": null,
            "grid_area": null,
            "grid_auto_columns": null,
            "grid_auto_flow": null,
            "grid_auto_rows": null,
            "grid_column": null,
            "grid_gap": null,
            "grid_row": null,
            "grid_template_areas": null,
            "grid_template_columns": null,
            "grid_template_rows": null,
            "height": null,
            "justify_content": null,
            "justify_items": null,
            "left": null,
            "margin": null,
            "max_height": null,
            "max_width": null,
            "min_height": null,
            "min_width": null,
            "object_fit": null,
            "object_position": null,
            "order": null,
            "overflow": null,
            "overflow_x": null,
            "overflow_y": null,
            "padding": null,
            "right": null,
            "top": null,
            "visibility": null,
            "width": null
          }
        },
        "97b5d9fed9ad4e9a80b8835f221b1ce3": {
          "model_module": "@jupyter-widgets/base",
          "model_name": "LayoutModel",
          "model_module_version": "1.2.0",
          "state": {
            "_model_module": "@jupyter-widgets/base",
            "_model_module_version": "1.2.0",
            "_model_name": "LayoutModel",
            "_view_count": null,
            "_view_module": "@jupyter-widgets/base",
            "_view_module_version": "1.2.0",
            "_view_name": "LayoutView",
            "align_content": null,
            "align_items": null,
            "align_self": null,
            "border": null,
            "bottom": null,
            "display": null,
            "flex": null,
            "flex_flow": null,
            "grid_area": null,
            "grid_auto_columns": null,
            "grid_auto_flow": null,
            "grid_auto_rows": null,
            "grid_column": null,
            "grid_gap": null,
            "grid_row": null,
            "grid_template_areas": null,
            "grid_template_columns": null,
            "grid_template_rows": null,
            "height": null,
            "justify_content": null,
            "justify_items": null,
            "left": null,
            "margin": null,
            "max_height": null,
            "max_width": null,
            "min_height": null,
            "min_width": null,
            "object_fit": null,
            "object_position": null,
            "order": null,
            "overflow": null,
            "overflow_x": null,
            "overflow_y": null,
            "padding": null,
            "right": null,
            "top": null,
            "visibility": null,
            "width": null
          }
        },
        "dce7e75a301b4554bcf063d68110b81e": {
          "model_module": "@jupyter-widgets/controls",
          "model_name": "DescriptionStyleModel",
          "model_module_version": "1.5.0",
          "state": {
            "_model_module": "@jupyter-widgets/controls",
            "_model_module_version": "1.5.0",
            "_model_name": "DescriptionStyleModel",
            "_view_count": null,
            "_view_module": "@jupyter-widgets/base",
            "_view_module_version": "1.2.0",
            "_view_name": "StyleView",
            "description_width": ""
          }
        },
        "a8723245eec24c91aa9574ae35b5c2d4": {
          "model_module": "@jupyter-widgets/base",
          "model_name": "LayoutModel",
          "model_module_version": "1.2.0",
          "state": {
            "_model_module": "@jupyter-widgets/base",
            "_model_module_version": "1.2.0",
            "_model_name": "LayoutModel",
            "_view_count": null,
            "_view_module": "@jupyter-widgets/base",
            "_view_module_version": "1.2.0",
            "_view_name": "LayoutView",
            "align_content": null,
            "align_items": null,
            "align_self": null,
            "border": null,
            "bottom": null,
            "display": null,
            "flex": null,
            "flex_flow": null,
            "grid_area": null,
            "grid_auto_columns": null,
            "grid_auto_flow": null,
            "grid_auto_rows": null,
            "grid_column": null,
            "grid_gap": null,
            "grid_row": null,
            "grid_template_areas": null,
            "grid_template_columns": null,
            "grid_template_rows": null,
            "height": null,
            "justify_content": null,
            "justify_items": null,
            "left": null,
            "margin": null,
            "max_height": null,
            "max_width": null,
            "min_height": null,
            "min_width": null,
            "object_fit": null,
            "object_position": null,
            "order": null,
            "overflow": null,
            "overflow_x": null,
            "overflow_y": null,
            "padding": null,
            "right": null,
            "top": null,
            "visibility": null,
            "width": null
          }
        },
        "843a2273aa3f4f60a71c084bfb340028": {
          "model_module": "@jupyter-widgets/controls",
          "model_name": "ProgressStyleModel",
          "model_module_version": "1.5.0",
          "state": {
            "_model_module": "@jupyter-widgets/controls",
            "_model_module_version": "1.5.0",
            "_model_name": "ProgressStyleModel",
            "_view_count": null,
            "_view_module": "@jupyter-widgets/base",
            "_view_module_version": "1.2.0",
            "_view_name": "StyleView",
            "bar_color": null,
            "description_width": ""
          }
        },
        "75144a0fc4d344cdb5cf59d315891e2b": {
          "model_module": "@jupyter-widgets/base",
          "model_name": "LayoutModel",
          "model_module_version": "1.2.0",
          "state": {
            "_model_module": "@jupyter-widgets/base",
            "_model_module_version": "1.2.0",
            "_model_name": "LayoutModel",
            "_view_count": null,
            "_view_module": "@jupyter-widgets/base",
            "_view_module_version": "1.2.0",
            "_view_name": "LayoutView",
            "align_content": null,
            "align_items": null,
            "align_self": null,
            "border": null,
            "bottom": null,
            "display": null,
            "flex": null,
            "flex_flow": null,
            "grid_area": null,
            "grid_auto_columns": null,
            "grid_auto_flow": null,
            "grid_auto_rows": null,
            "grid_column": null,
            "grid_gap": null,
            "grid_row": null,
            "grid_template_areas": null,
            "grid_template_columns": null,
            "grid_template_rows": null,
            "height": null,
            "justify_content": null,
            "justify_items": null,
            "left": null,
            "margin": null,
            "max_height": null,
            "max_width": null,
            "min_height": null,
            "min_width": null,
            "object_fit": null,
            "object_position": null,
            "order": null,
            "overflow": null,
            "overflow_x": null,
            "overflow_y": null,
            "padding": null,
            "right": null,
            "top": null,
            "visibility": null,
            "width": null
          }
        },
        "f5ce048157ee4333a43f195af15b20ef": {
          "model_module": "@jupyter-widgets/controls",
          "model_name": "DescriptionStyleModel",
          "model_module_version": "1.5.0",
          "state": {
            "_model_module": "@jupyter-widgets/controls",
            "_model_module_version": "1.5.0",
            "_model_name": "DescriptionStyleModel",
            "_view_count": null,
            "_view_module": "@jupyter-widgets/base",
            "_view_module_version": "1.2.0",
            "_view_name": "StyleView",
            "description_width": ""
          }
        },
        "0d2aba81111e4ab0b77baa664d62ac43": {
          "model_module": "@jupyter-widgets/controls",
          "model_name": "HBoxModel",
          "model_module_version": "1.5.0",
          "state": {
            "_dom_classes": [],
            "_model_module": "@jupyter-widgets/controls",
            "_model_module_version": "1.5.0",
            "_model_name": "HBoxModel",
            "_view_count": null,
            "_view_module": "@jupyter-widgets/controls",
            "_view_module_version": "1.5.0",
            "_view_name": "HBoxView",
            "box_style": "",
            "children": [
              "IPY_MODEL_b3b2fae44b0d42bcbde6834ee83fcfdd",
              "IPY_MODEL_964ef18ee4bf41bfa6e5e4a75d2bdc17",
              "IPY_MODEL_048bc6410c3549bbb60ce22d525817d8"
            ],
            "layout": "IPY_MODEL_411bcd71424144aa86c719f4c5f9200d"
          }
        },
        "b3b2fae44b0d42bcbde6834ee83fcfdd": {
          "model_module": "@jupyter-widgets/controls",
          "model_name": "HTMLModel",
          "model_module_version": "1.5.0",
          "state": {
            "_dom_classes": [],
            "_model_module": "@jupyter-widgets/controls",
            "_model_module_version": "1.5.0",
            "_model_name": "HTMLModel",
            "_view_count": null,
            "_view_module": "@jupyter-widgets/controls",
            "_view_module_version": "1.5.0",
            "_view_name": "HTMLView",
            "description": "",
            "description_tooltip": null,
            "layout": "IPY_MODEL_8b57f6a9079c49fda54e000c4369d43b",
            "placeholder": "​",
            "style": "IPY_MODEL_09f13dad81fc4678bda351c29b24eb16",
            "value": "QUEUEING TASKS | : 100%"
          }
        },
        "964ef18ee4bf41bfa6e5e4a75d2bdc17": {
          "model_module": "@jupyter-widgets/controls",
          "model_name": "FloatProgressModel",
          "model_module_version": "1.5.0",
          "state": {
            "_dom_classes": [],
            "_model_module": "@jupyter-widgets/controls",
            "_model_module_version": "1.5.0",
            "_model_name": "FloatProgressModel",
            "_view_count": null,
            "_view_module": "@jupyter-widgets/controls",
            "_view_module_version": "1.5.0",
            "_view_name": "ProgressView",
            "bar_style": "success",
            "description": "",
            "description_tooltip": null,
            "layout": "IPY_MODEL_b81dd2b6a1864df380558cbd2a6770e0",
            "max": 1,
            "min": 0,
            "orientation": "horizontal",
            "style": "IPY_MODEL_2a323d9c63c2494d893d6a664835cd84",
            "value": 1
          }
        },
        "048bc6410c3549bbb60ce22d525817d8": {
          "model_module": "@jupyter-widgets/controls",
          "model_name": "HTMLModel",
          "model_module_version": "1.5.0",
          "state": {
            "_dom_classes": [],
            "_model_module": "@jupyter-widgets/controls",
            "_model_module_version": "1.5.0",
            "_model_name": "HTMLModel",
            "_view_count": null,
            "_view_module": "@jupyter-widgets/controls",
            "_view_module_version": "1.5.0",
            "_view_name": "HTMLView",
            "description": "",
            "description_tooltip": null,
            "layout": "IPY_MODEL_6b6e35ff843744cc9f306a31e5675097",
            "placeholder": "​",
            "style": "IPY_MODEL_dde63caacd6a4e9a89b9e7d376511161",
            "value": " 1/1 [00:00&lt;00:00, 36.77it/s]"
          }
        },
        "411bcd71424144aa86c719f4c5f9200d": {
          "model_module": "@jupyter-widgets/base",
          "model_name": "LayoutModel",
          "model_module_version": "1.2.0",
          "state": {
            "_model_module": "@jupyter-widgets/base",
            "_model_module_version": "1.2.0",
            "_model_name": "LayoutModel",
            "_view_count": null,
            "_view_module": "@jupyter-widgets/base",
            "_view_module_version": "1.2.0",
            "_view_name": "LayoutView",
            "align_content": null,
            "align_items": null,
            "align_self": null,
            "border": null,
            "bottom": null,
            "display": null,
            "flex": null,
            "flex_flow": null,
            "grid_area": null,
            "grid_auto_columns": null,
            "grid_auto_flow": null,
            "grid_auto_rows": null,
            "grid_column": null,
            "grid_gap": null,
            "grid_row": null,
            "grid_template_areas": null,
            "grid_template_columns": null,
            "grid_template_rows": null,
            "height": null,
            "justify_content": null,
            "justify_items": null,
            "left": null,
            "margin": null,
            "max_height": null,
            "max_width": null,
            "min_height": null,
            "min_width": null,
            "object_fit": null,
            "object_position": null,
            "order": null,
            "overflow": null,
            "overflow_x": null,
            "overflow_y": null,
            "padding": null,
            "right": null,
            "top": null,
            "visibility": null,
            "width": null
          }
        },
        "8b57f6a9079c49fda54e000c4369d43b": {
          "model_module": "@jupyter-widgets/base",
          "model_name": "LayoutModel",
          "model_module_version": "1.2.0",
          "state": {
            "_model_module": "@jupyter-widgets/base",
            "_model_module_version": "1.2.0",
            "_model_name": "LayoutModel",
            "_view_count": null,
            "_view_module": "@jupyter-widgets/base",
            "_view_module_version": "1.2.0",
            "_view_name": "LayoutView",
            "align_content": null,
            "align_items": null,
            "align_self": null,
            "border": null,
            "bottom": null,
            "display": null,
            "flex": null,
            "flex_flow": null,
            "grid_area": null,
            "grid_auto_columns": null,
            "grid_auto_flow": null,
            "grid_auto_rows": null,
            "grid_column": null,
            "grid_gap": null,
            "grid_row": null,
            "grid_template_areas": null,
            "grid_template_columns": null,
            "grid_template_rows": null,
            "height": null,
            "justify_content": null,
            "justify_items": null,
            "left": null,
            "margin": null,
            "max_height": null,
            "max_width": null,
            "min_height": null,
            "min_width": null,
            "object_fit": null,
            "object_position": null,
            "order": null,
            "overflow": null,
            "overflow_x": null,
            "overflow_y": null,
            "padding": null,
            "right": null,
            "top": null,
            "visibility": null,
            "width": null
          }
        },
        "09f13dad81fc4678bda351c29b24eb16": {
          "model_module": "@jupyter-widgets/controls",
          "model_name": "DescriptionStyleModel",
          "model_module_version": "1.5.0",
          "state": {
            "_model_module": "@jupyter-widgets/controls",
            "_model_module_version": "1.5.0",
            "_model_name": "DescriptionStyleModel",
            "_view_count": null,
            "_view_module": "@jupyter-widgets/base",
            "_view_module_version": "1.2.0",
            "_view_name": "StyleView",
            "description_width": ""
          }
        },
        "b81dd2b6a1864df380558cbd2a6770e0": {
          "model_module": "@jupyter-widgets/base",
          "model_name": "LayoutModel",
          "model_module_version": "1.2.0",
          "state": {
            "_model_module": "@jupyter-widgets/base",
            "_model_module_version": "1.2.0",
            "_model_name": "LayoutModel",
            "_view_count": null,
            "_view_module": "@jupyter-widgets/base",
            "_view_module_version": "1.2.0",
            "_view_name": "LayoutView",
            "align_content": null,
            "align_items": null,
            "align_self": null,
            "border": null,
            "bottom": null,
            "display": null,
            "flex": null,
            "flex_flow": null,
            "grid_area": null,
            "grid_auto_columns": null,
            "grid_auto_flow": null,
            "grid_auto_rows": null,
            "grid_column": null,
            "grid_gap": null,
            "grid_row": null,
            "grid_template_areas": null,
            "grid_template_columns": null,
            "grid_template_rows": null,
            "height": null,
            "justify_content": null,
            "justify_items": null,
            "left": null,
            "margin": null,
            "max_height": null,
            "max_width": null,
            "min_height": null,
            "min_width": null,
            "object_fit": null,
            "object_position": null,
            "order": null,
            "overflow": null,
            "overflow_x": null,
            "overflow_y": null,
            "padding": null,
            "right": null,
            "top": null,
            "visibility": null,
            "width": null
          }
        },
        "2a323d9c63c2494d893d6a664835cd84": {
          "model_module": "@jupyter-widgets/controls",
          "model_name": "ProgressStyleModel",
          "model_module_version": "1.5.0",
          "state": {
            "_model_module": "@jupyter-widgets/controls",
            "_model_module_version": "1.5.0",
            "_model_name": "ProgressStyleModel",
            "_view_count": null,
            "_view_module": "@jupyter-widgets/base",
            "_view_module_version": "1.2.0",
            "_view_name": "StyleView",
            "bar_color": null,
            "description_width": ""
          }
        },
        "6b6e35ff843744cc9f306a31e5675097": {
          "model_module": "@jupyter-widgets/base",
          "model_name": "LayoutModel",
          "model_module_version": "1.2.0",
          "state": {
            "_model_module": "@jupyter-widgets/base",
            "_model_module_version": "1.2.0",
            "_model_name": "LayoutModel",
            "_view_count": null,
            "_view_module": "@jupyter-widgets/base",
            "_view_module_version": "1.2.0",
            "_view_name": "LayoutView",
            "align_content": null,
            "align_items": null,
            "align_self": null,
            "border": null,
            "bottom": null,
            "display": null,
            "flex": null,
            "flex_flow": null,
            "grid_area": null,
            "grid_auto_columns": null,
            "grid_auto_flow": null,
            "grid_auto_rows": null,
            "grid_column": null,
            "grid_gap": null,
            "grid_row": null,
            "grid_template_areas": null,
            "grid_template_columns": null,
            "grid_template_rows": null,
            "height": null,
            "justify_content": null,
            "justify_items": null,
            "left": null,
            "margin": null,
            "max_height": null,
            "max_width": null,
            "min_height": null,
            "min_width": null,
            "object_fit": null,
            "object_position": null,
            "order": null,
            "overflow": null,
            "overflow_x": null,
            "overflow_y": null,
            "padding": null,
            "right": null,
            "top": null,
            "visibility": null,
            "width": null
          }
        },
        "dde63caacd6a4e9a89b9e7d376511161": {
          "model_module": "@jupyter-widgets/controls",
          "model_name": "DescriptionStyleModel",
          "model_module_version": "1.5.0",
          "state": {
            "_model_module": "@jupyter-widgets/controls",
            "_model_module_version": "1.5.0",
            "_model_name": "DescriptionStyleModel",
            "_view_count": null,
            "_view_module": "@jupyter-widgets/base",
            "_view_module_version": "1.2.0",
            "_view_name": "StyleView",
            "description_width": ""
          }
        },
        "735b0bcf8c504073b2c2fe6ebfc09510": {
          "model_module": "@jupyter-widgets/controls",
          "model_name": "HBoxModel",
          "model_module_version": "1.5.0",
          "state": {
            "_dom_classes": [],
            "_model_module": "@jupyter-widgets/controls",
            "_model_module_version": "1.5.0",
            "_model_name": "HBoxModel",
            "_view_count": null,
            "_view_module": "@jupyter-widgets/controls",
            "_view_module_version": "1.5.0",
            "_view_name": "HBoxView",
            "box_style": "",
            "children": [
              "IPY_MODEL_b9c5e815b48c4b4d9cd5c1417e021f89",
              "IPY_MODEL_bd37afb3f9e84a4c92bd66d8b3b5dbc2",
              "IPY_MODEL_d7fd427c8a9e41d2a4a25786ab1b55d1"
            ],
            "layout": "IPY_MODEL_980bf12bbb804324a461a6e8eb9c665c"
          }
        },
        "b9c5e815b48c4b4d9cd5c1417e021f89": {
          "model_module": "@jupyter-widgets/controls",
          "model_name": "HTMLModel",
          "model_module_version": "1.5.0",
          "state": {
            "_dom_classes": [],
            "_model_module": "@jupyter-widgets/controls",
            "_model_module_version": "1.5.0",
            "_model_name": "HTMLModel",
            "_view_count": null,
            "_view_module": "@jupyter-widgets/controls",
            "_view_module_version": "1.5.0",
            "_view_name": "HTMLView",
            "description": "",
            "description_tooltip": null,
            "layout": "IPY_MODEL_e4a7f0522b7a488980320da0c38826f6",
            "placeholder": "​",
            "style": "IPY_MODEL_90200396d9694e2f8041989ea084d1b6",
            "value": "PROCESSING TASKS | : 100%"
          }
        },
        "bd37afb3f9e84a4c92bd66d8b3b5dbc2": {
          "model_module": "@jupyter-widgets/controls",
          "model_name": "FloatProgressModel",
          "model_module_version": "1.5.0",
          "state": {
            "_dom_classes": [],
            "_model_module": "@jupyter-widgets/controls",
            "_model_module_version": "1.5.0",
            "_model_name": "FloatProgressModel",
            "_view_count": null,
            "_view_module": "@jupyter-widgets/controls",
            "_view_module_version": "1.5.0",
            "_view_name": "ProgressView",
            "bar_style": "success",
            "description": "",
            "description_tooltip": null,
            "layout": "IPY_MODEL_bbff702acafd47089518b1329a48608b",
            "max": 1,
            "min": 0,
            "orientation": "horizontal",
            "style": "IPY_MODEL_7cbfe5be1c514382ad3d26d22f5694ef",
            "value": 1
          }
        },
        "d7fd427c8a9e41d2a4a25786ab1b55d1": {
          "model_module": "@jupyter-widgets/controls",
          "model_name": "HTMLModel",
          "model_module_version": "1.5.0",
          "state": {
            "_dom_classes": [],
            "_model_module": "@jupyter-widgets/controls",
            "_model_module_version": "1.5.0",
            "_model_name": "HTMLModel",
            "_view_count": null,
            "_view_module": "@jupyter-widgets/controls",
            "_view_module_version": "1.5.0",
            "_view_name": "HTMLView",
            "description": "",
            "description_tooltip": null,
            "layout": "IPY_MODEL_76a69f705c5c4ab68dadcc944166b1b0",
            "placeholder": "​",
            "style": "IPY_MODEL_545b7c9cb9f94ae28374ede7c86f73a8",
            "value": " 1/1 [00:17&lt;00:00, 17.22s/it]"
          }
        },
        "980bf12bbb804324a461a6e8eb9c665c": {
          "model_module": "@jupyter-widgets/base",
          "model_name": "LayoutModel",
          "model_module_version": "1.2.0",
          "state": {
            "_model_module": "@jupyter-widgets/base",
            "_model_module_version": "1.2.0",
            "_model_name": "LayoutModel",
            "_view_count": null,
            "_view_module": "@jupyter-widgets/base",
            "_view_module_version": "1.2.0",
            "_view_name": "LayoutView",
            "align_content": null,
            "align_items": null,
            "align_self": null,
            "border": null,
            "bottom": null,
            "display": null,
            "flex": null,
            "flex_flow": null,
            "grid_area": null,
            "grid_auto_columns": null,
            "grid_auto_flow": null,
            "grid_auto_rows": null,
            "grid_column": null,
            "grid_gap": null,
            "grid_row": null,
            "grid_template_areas": null,
            "grid_template_columns": null,
            "grid_template_rows": null,
            "height": null,
            "justify_content": null,
            "justify_items": null,
            "left": null,
            "margin": null,
            "max_height": null,
            "max_width": null,
            "min_height": null,
            "min_width": null,
            "object_fit": null,
            "object_position": null,
            "order": null,
            "overflow": null,
            "overflow_x": null,
            "overflow_y": null,
            "padding": null,
            "right": null,
            "top": null,
            "visibility": null,
            "width": null
          }
        },
        "e4a7f0522b7a488980320da0c38826f6": {
          "model_module": "@jupyter-widgets/base",
          "model_name": "LayoutModel",
          "model_module_version": "1.2.0",
          "state": {
            "_model_module": "@jupyter-widgets/base",
            "_model_module_version": "1.2.0",
            "_model_name": "LayoutModel",
            "_view_count": null,
            "_view_module": "@jupyter-widgets/base",
            "_view_module_version": "1.2.0",
            "_view_name": "LayoutView",
            "align_content": null,
            "align_items": null,
            "align_self": null,
            "border": null,
            "bottom": null,
            "display": null,
            "flex": null,
            "flex_flow": null,
            "grid_area": null,
            "grid_auto_columns": null,
            "grid_auto_flow": null,
            "grid_auto_rows": null,
            "grid_column": null,
            "grid_gap": null,
            "grid_row": null,
            "grid_template_areas": null,
            "grid_template_columns": null,
            "grid_template_rows": null,
            "height": null,
            "justify_content": null,
            "justify_items": null,
            "left": null,
            "margin": null,
            "max_height": null,
            "max_width": null,
            "min_height": null,
            "min_width": null,
            "object_fit": null,
            "object_position": null,
            "order": null,
            "overflow": null,
            "overflow_x": null,
            "overflow_y": null,
            "padding": null,
            "right": null,
            "top": null,
            "visibility": null,
            "width": null
          }
        },
        "90200396d9694e2f8041989ea084d1b6": {
          "model_module": "@jupyter-widgets/controls",
          "model_name": "DescriptionStyleModel",
          "model_module_version": "1.5.0",
          "state": {
            "_model_module": "@jupyter-widgets/controls",
            "_model_module_version": "1.5.0",
            "_model_name": "DescriptionStyleModel",
            "_view_count": null,
            "_view_module": "@jupyter-widgets/base",
            "_view_module_version": "1.2.0",
            "_view_name": "StyleView",
            "description_width": ""
          }
        },
        "bbff702acafd47089518b1329a48608b": {
          "model_module": "@jupyter-widgets/base",
          "model_name": "LayoutModel",
          "model_module_version": "1.2.0",
          "state": {
            "_model_module": "@jupyter-widgets/base",
            "_model_module_version": "1.2.0",
            "_model_name": "LayoutModel",
            "_view_count": null,
            "_view_module": "@jupyter-widgets/base",
            "_view_module_version": "1.2.0",
            "_view_name": "LayoutView",
            "align_content": null,
            "align_items": null,
            "align_self": null,
            "border": null,
            "bottom": null,
            "display": null,
            "flex": null,
            "flex_flow": null,
            "grid_area": null,
            "grid_auto_columns": null,
            "grid_auto_flow": null,
            "grid_auto_rows": null,
            "grid_column": null,
            "grid_gap": null,
            "grid_row": null,
            "grid_template_areas": null,
            "grid_template_columns": null,
            "grid_template_rows": null,
            "height": null,
            "justify_content": null,
            "justify_items": null,
            "left": null,
            "margin": null,
            "max_height": null,
            "max_width": null,
            "min_height": null,
            "min_width": null,
            "object_fit": null,
            "object_position": null,
            "order": null,
            "overflow": null,
            "overflow_x": null,
            "overflow_y": null,
            "padding": null,
            "right": null,
            "top": null,
            "visibility": null,
            "width": null
          }
        },
        "7cbfe5be1c514382ad3d26d22f5694ef": {
          "model_module": "@jupyter-widgets/controls",
          "model_name": "ProgressStyleModel",
          "model_module_version": "1.5.0",
          "state": {
            "_model_module": "@jupyter-widgets/controls",
            "_model_module_version": "1.5.0",
            "_model_name": "ProgressStyleModel",
            "_view_count": null,
            "_view_module": "@jupyter-widgets/base",
            "_view_module_version": "1.2.0",
            "_view_name": "StyleView",
            "bar_color": null,
            "description_width": ""
          }
        },
        "76a69f705c5c4ab68dadcc944166b1b0": {
          "model_module": "@jupyter-widgets/base",
          "model_name": "LayoutModel",
          "model_module_version": "1.2.0",
          "state": {
            "_model_module": "@jupyter-widgets/base",
            "_model_module_version": "1.2.0",
            "_model_name": "LayoutModel",
            "_view_count": null,
            "_view_module": "@jupyter-widgets/base",
            "_view_module_version": "1.2.0",
            "_view_name": "LayoutView",
            "align_content": null,
            "align_items": null,
            "align_self": null,
            "border": null,
            "bottom": null,
            "display": null,
            "flex": null,
            "flex_flow": null,
            "grid_area": null,
            "grid_auto_columns": null,
            "grid_auto_flow": null,
            "grid_auto_rows": null,
            "grid_column": null,
            "grid_gap": null,
            "grid_row": null,
            "grid_template_areas": null,
            "grid_template_columns": null,
            "grid_template_rows": null,
            "height": null,
            "justify_content": null,
            "justify_items": null,
            "left": null,
            "margin": null,
            "max_height": null,
            "max_width": null,
            "min_height": null,
            "min_width": null,
            "object_fit": null,
            "object_position": null,
            "order": null,
            "overflow": null,
            "overflow_x": null,
            "overflow_y": null,
            "padding": null,
            "right": null,
            "top": null,
            "visibility": null,
            "width": null
          }
        },
        "545b7c9cb9f94ae28374ede7c86f73a8": {
          "model_module": "@jupyter-widgets/controls",
          "model_name": "DescriptionStyleModel",
          "model_module_version": "1.5.0",
          "state": {
            "_model_module": "@jupyter-widgets/controls",
            "_model_module_version": "1.5.0",
            "_model_name": "DescriptionStyleModel",
            "_view_count": null,
            "_view_module": "@jupyter-widgets/base",
            "_view_module_version": "1.2.0",
            "_view_name": "StyleView",
            "description_width": ""
          }
        },
        "7dea143699fa448996730c7fb96dfeeb": {
          "model_module": "@jupyter-widgets/controls",
          "model_name": "HBoxModel",
          "model_module_version": "1.5.0",
          "state": {
            "_dom_classes": [],
            "_model_module": "@jupyter-widgets/controls",
            "_model_module_version": "1.5.0",
            "_model_name": "HBoxModel",
            "_view_count": null,
            "_view_module": "@jupyter-widgets/controls",
            "_view_module_version": "1.5.0",
            "_view_name": "HBoxView",
            "box_style": "",
            "children": [
              "IPY_MODEL_2898fae24d6f4c5785af2184403ac8fc",
              "IPY_MODEL_f9d6984dbb0646f089e6ecd1d083ba0e",
              "IPY_MODEL_21fb4ff13360471880777bba9407ce7e"
            ],
            "layout": "IPY_MODEL_fd86b53126a14f239927079abbaab7ec"
          }
        },
        "2898fae24d6f4c5785af2184403ac8fc": {
          "model_module": "@jupyter-widgets/controls",
          "model_name": "HTMLModel",
          "model_module_version": "1.5.0",
          "state": {
            "_dom_classes": [],
            "_model_module": "@jupyter-widgets/controls",
            "_model_module_version": "1.5.0",
            "_model_name": "HTMLModel",
            "_view_count": null,
            "_view_module": "@jupyter-widgets/controls",
            "_view_module_version": "1.5.0",
            "_view_name": "HTMLView",
            "description": "",
            "description_tooltip": null,
            "layout": "IPY_MODEL_5f61948381db4d0f80a1c7c08ac64ada",
            "placeholder": "​",
            "style": "IPY_MODEL_ad0f32bddf28458383f0ef52a04535e1",
            "value": "COLLECTING RESULTS | : 100%"
          }
        },
        "f9d6984dbb0646f089e6ecd1d083ba0e": {
          "model_module": "@jupyter-widgets/controls",
          "model_name": "FloatProgressModel",
          "model_module_version": "1.5.0",
          "state": {
            "_dom_classes": [],
            "_model_module": "@jupyter-widgets/controls",
            "_model_module_version": "1.5.0",
            "_model_name": "FloatProgressModel",
            "_view_count": null,
            "_view_module": "@jupyter-widgets/controls",
            "_view_module_version": "1.5.0",
            "_view_name": "ProgressView",
            "bar_style": "success",
            "description": "",
            "description_tooltip": null,
            "layout": "IPY_MODEL_5e5e2b9e219f41f89d7b74fe326c39b4",
            "max": 1,
            "min": 0,
            "orientation": "horizontal",
            "style": "IPY_MODEL_8a687dc746d241d59be14039867988aa",
            "value": 1
          }
        },
        "21fb4ff13360471880777bba9407ce7e": {
          "model_module": "@jupyter-widgets/controls",
          "model_name": "HTMLModel",
          "model_module_version": "1.5.0",
          "state": {
            "_dom_classes": [],
            "_model_module": "@jupyter-widgets/controls",
            "_model_module_version": "1.5.0",
            "_model_name": "HTMLModel",
            "_view_count": null,
            "_view_module": "@jupyter-widgets/controls",
            "_view_module_version": "1.5.0",
            "_view_name": "HTMLView",
            "description": "",
            "description_tooltip": null,
            "layout": "IPY_MODEL_d1dc1453569f4975aed2f351aaac6cef",
            "placeholder": "​",
            "style": "IPY_MODEL_e5b148c2e38d4ec09ebf12ee5f11eda1",
            "value": " 1/1 [00:00&lt;00:00, 69.56it/s]"
          }
        },
        "fd86b53126a14f239927079abbaab7ec": {
          "model_module": "@jupyter-widgets/base",
          "model_name": "LayoutModel",
          "model_module_version": "1.2.0",
          "state": {
            "_model_module": "@jupyter-widgets/base",
            "_model_module_version": "1.2.0",
            "_model_name": "LayoutModel",
            "_view_count": null,
            "_view_module": "@jupyter-widgets/base",
            "_view_module_version": "1.2.0",
            "_view_name": "LayoutView",
            "align_content": null,
            "align_items": null,
            "align_self": null,
            "border": null,
            "bottom": null,
            "display": null,
            "flex": null,
            "flex_flow": null,
            "grid_area": null,
            "grid_auto_columns": null,
            "grid_auto_flow": null,
            "grid_auto_rows": null,
            "grid_column": null,
            "grid_gap": null,
            "grid_row": null,
            "grid_template_areas": null,
            "grid_template_columns": null,
            "grid_template_rows": null,
            "height": null,
            "justify_content": null,
            "justify_items": null,
            "left": null,
            "margin": null,
            "max_height": null,
            "max_width": null,
            "min_height": null,
            "min_width": null,
            "object_fit": null,
            "object_position": null,
            "order": null,
            "overflow": null,
            "overflow_x": null,
            "overflow_y": null,
            "padding": null,
            "right": null,
            "top": null,
            "visibility": null,
            "width": null
          }
        },
        "5f61948381db4d0f80a1c7c08ac64ada": {
          "model_module": "@jupyter-widgets/base",
          "model_name": "LayoutModel",
          "model_module_version": "1.2.0",
          "state": {
            "_model_module": "@jupyter-widgets/base",
            "_model_module_version": "1.2.0",
            "_model_name": "LayoutModel",
            "_view_count": null,
            "_view_module": "@jupyter-widgets/base",
            "_view_module_version": "1.2.0",
            "_view_name": "LayoutView",
            "align_content": null,
            "align_items": null,
            "align_self": null,
            "border": null,
            "bottom": null,
            "display": null,
            "flex": null,
            "flex_flow": null,
            "grid_area": null,
            "grid_auto_columns": null,
            "grid_auto_flow": null,
            "grid_auto_rows": null,
            "grid_column": null,
            "grid_gap": null,
            "grid_row": null,
            "grid_template_areas": null,
            "grid_template_columns": null,
            "grid_template_rows": null,
            "height": null,
            "justify_content": null,
            "justify_items": null,
            "left": null,
            "margin": null,
            "max_height": null,
            "max_width": null,
            "min_height": null,
            "min_width": null,
            "object_fit": null,
            "object_position": null,
            "order": null,
            "overflow": null,
            "overflow_x": null,
            "overflow_y": null,
            "padding": null,
            "right": null,
            "top": null,
            "visibility": null,
            "width": null
          }
        },
        "ad0f32bddf28458383f0ef52a04535e1": {
          "model_module": "@jupyter-widgets/controls",
          "model_name": "DescriptionStyleModel",
          "model_module_version": "1.5.0",
          "state": {
            "_model_module": "@jupyter-widgets/controls",
            "_model_module_version": "1.5.0",
            "_model_name": "DescriptionStyleModel",
            "_view_count": null,
            "_view_module": "@jupyter-widgets/base",
            "_view_module_version": "1.2.0",
            "_view_name": "StyleView",
            "description_width": ""
          }
        },
        "5e5e2b9e219f41f89d7b74fe326c39b4": {
          "model_module": "@jupyter-widgets/base",
          "model_name": "LayoutModel",
          "model_module_version": "1.2.0",
          "state": {
            "_model_module": "@jupyter-widgets/base",
            "_model_module_version": "1.2.0",
            "_model_name": "LayoutModel",
            "_view_count": null,
            "_view_module": "@jupyter-widgets/base",
            "_view_module_version": "1.2.0",
            "_view_name": "LayoutView",
            "align_content": null,
            "align_items": null,
            "align_self": null,
            "border": null,
            "bottom": null,
            "display": null,
            "flex": null,
            "flex_flow": null,
            "grid_area": null,
            "grid_auto_columns": null,
            "grid_auto_flow": null,
            "grid_auto_rows": null,
            "grid_column": null,
            "grid_gap": null,
            "grid_row": null,
            "grid_template_areas": null,
            "grid_template_columns": null,
            "grid_template_rows": null,
            "height": null,
            "justify_content": null,
            "justify_items": null,
            "left": null,
            "margin": null,
            "max_height": null,
            "max_width": null,
            "min_height": null,
            "min_width": null,
            "object_fit": null,
            "object_position": null,
            "order": null,
            "overflow": null,
            "overflow_x": null,
            "overflow_y": null,
            "padding": null,
            "right": null,
            "top": null,
            "visibility": null,
            "width": null
          }
        },
        "8a687dc746d241d59be14039867988aa": {
          "model_module": "@jupyter-widgets/controls",
          "model_name": "ProgressStyleModel",
          "model_module_version": "1.5.0",
          "state": {
            "_model_module": "@jupyter-widgets/controls",
            "_model_module_version": "1.5.0",
            "_model_name": "ProgressStyleModel",
            "_view_count": null,
            "_view_module": "@jupyter-widgets/base",
            "_view_module_version": "1.2.0",
            "_view_name": "StyleView",
            "bar_color": null,
            "description_width": ""
          }
        },
        "d1dc1453569f4975aed2f351aaac6cef": {
          "model_module": "@jupyter-widgets/base",
          "model_name": "LayoutModel",
          "model_module_version": "1.2.0",
          "state": {
            "_model_module": "@jupyter-widgets/base",
            "_model_module_version": "1.2.0",
            "_model_name": "LayoutModel",
            "_view_count": null,
            "_view_module": "@jupyter-widgets/base",
            "_view_module_version": "1.2.0",
            "_view_name": "LayoutView",
            "align_content": null,
            "align_items": null,
            "align_self": null,
            "border": null,
            "bottom": null,
            "display": null,
            "flex": null,
            "flex_flow": null,
            "grid_area": null,
            "grid_auto_columns": null,
            "grid_auto_flow": null,
            "grid_auto_rows": null,
            "grid_column": null,
            "grid_gap": null,
            "grid_row": null,
            "grid_template_areas": null,
            "grid_template_columns": null,
            "grid_template_rows": null,
            "height": null,
            "justify_content": null,
            "justify_items": null,
            "left": null,
            "margin": null,
            "max_height": null,
            "max_width": null,
            "min_height": null,
            "min_width": null,
            "object_fit": null,
            "object_position": null,
            "order": null,
            "overflow": null,
            "overflow_x": null,
            "overflow_y": null,
            "padding": null,
            "right": null,
            "top": null,
            "visibility": null,
            "width": null
          }
        },
        "e5b148c2e38d4ec09ebf12ee5f11eda1": {
          "model_module": "@jupyter-widgets/controls",
          "model_name": "DescriptionStyleModel",
          "model_module_version": "1.5.0",
          "state": {
            "_model_module": "@jupyter-widgets/controls",
            "_model_module_version": "1.5.0",
            "_model_name": "DescriptionStyleModel",
            "_view_count": null,
            "_view_module": "@jupyter-widgets/base",
            "_view_module_version": "1.2.0",
            "_view_name": "StyleView",
            "description_width": ""
          }
        }
      }
    }
  },
  "cells": [
    {
      "cell_type": "code",
      "execution_count": 6,
      "metadata": {
        "id": "ZX4BFR_2_p4Y"
      },
      "outputs": [],
      "source": [
        "import datetime\n",
        "import pathlib\n",
        "\n",
        "import cartopy.crs as ccrs\n",
        "import cartopy.feature as cfeature\n",
        "from cartopy.mpl.gridliner import LONGITUDE_FORMATTER, LATITUDE_FORMATTER\n",
        "import earthaccess\n",
        "import matplotlib.pyplot as plt\n",
        "import netCDF4 as nc\n",
        "import numpy as np\n",
        "import pandas as pd"
      ]
    },
    {
      "cell_type": "code",
      "source": [
        "!pip install pathlib"
      ],
      "metadata": {
        "colab": {
          "base_uri": "https://localhost:8080/"
        },
        "id": "owjAvWfa_yhi",
        "outputId": "0f549cb9-8e61-4ebe-9179-157df0556bf7"
      },
      "execution_count": 2,
      "outputs": [
        {
          "output_type": "stream",
          "name": "stdout",
          "text": [
            "Requirement already satisfied: pathlib in /usr/local/lib/python3.11/dist-packages (1.0.1)\n"
          ]
        }
      ]
    },
    {
      "cell_type": "code",
      "source": [
        "!pip install cartopy"
      ],
      "metadata": {
        "colab": {
          "base_uri": "https://localhost:8080/"
        },
        "id": "kCJCwr7V_7I8",
        "outputId": "7e7b351b-551f-43e9-c708-e6023d3f8363"
      },
      "execution_count": 3,
      "outputs": [
        {
          "output_type": "stream",
          "name": "stdout",
          "text": [
            "Collecting cartopy\n",
            "  Downloading Cartopy-0.24.1-cp311-cp311-manylinux_2_17_x86_64.manylinux2014_x86_64.whl.metadata (7.9 kB)\n",
            "Requirement already satisfied: numpy>=1.23 in /usr/local/lib/python3.11/dist-packages (from cartopy) (2.0.2)\n",
            "Requirement already satisfied: matplotlib>=3.6 in /usr/local/lib/python3.11/dist-packages (from cartopy) (3.10.0)\n",
            "Requirement already satisfied: shapely>=1.8 in /usr/local/lib/python3.11/dist-packages (from cartopy) (2.1.0)\n",
            "Requirement already satisfied: packaging>=21 in /usr/local/lib/python3.11/dist-packages (from cartopy) (24.2)\n",
            "Requirement already satisfied: pyshp>=2.3 in /usr/local/lib/python3.11/dist-packages (from cartopy) (2.3.1)\n",
            "Requirement already satisfied: pyproj>=3.3.1 in /usr/local/lib/python3.11/dist-packages (from cartopy) (3.7.1)\n",
            "Requirement already satisfied: contourpy>=1.0.1 in /usr/local/lib/python3.11/dist-packages (from matplotlib>=3.6->cartopy) (1.3.2)\n",
            "Requirement already satisfied: cycler>=0.10 in /usr/local/lib/python3.11/dist-packages (from matplotlib>=3.6->cartopy) (0.12.1)\n",
            "Requirement already satisfied: fonttools>=4.22.0 in /usr/local/lib/python3.11/dist-packages (from matplotlib>=3.6->cartopy) (4.57.0)\n",
            "Requirement already satisfied: kiwisolver>=1.3.1 in /usr/local/lib/python3.11/dist-packages (from matplotlib>=3.6->cartopy) (1.4.8)\n",
            "Requirement already satisfied: pillow>=8 in /usr/local/lib/python3.11/dist-packages (from matplotlib>=3.6->cartopy) (11.2.1)\n",
            "Requirement already satisfied: pyparsing>=2.3.1 in /usr/local/lib/python3.11/dist-packages (from matplotlib>=3.6->cartopy) (3.2.3)\n",
            "Requirement already satisfied: python-dateutil>=2.7 in /usr/local/lib/python3.11/dist-packages (from matplotlib>=3.6->cartopy) (2.9.0.post0)\n",
            "Requirement already satisfied: certifi in /usr/local/lib/python3.11/dist-packages (from pyproj>=3.3.1->cartopy) (2025.1.31)\n",
            "Requirement already satisfied: six>=1.5 in /usr/local/lib/python3.11/dist-packages (from python-dateutil>=2.7->matplotlib>=3.6->cartopy) (1.17.0)\n",
            "Downloading Cartopy-0.24.1-cp311-cp311-manylinux_2_17_x86_64.manylinux2014_x86_64.whl (11.7 MB)\n",
            "\u001b[2K   \u001b[90m━━━━━━━━━━━━━━━━━━━━━━━━━━━━━━━━━━━━━━━━\u001b[0m \u001b[32m11.7/11.7 MB\u001b[0m \u001b[31m109.5 MB/s\u001b[0m eta \u001b[36m0:00:00\u001b[0m\n",
            "\u001b[?25hInstalling collected packages: cartopy\n",
            "Successfully installed cartopy-0.24.1\n"
          ]
        }
      ]
    },
    {
      "cell_type": "code",
      "source": [
        "!pip install earthaccess"
      ],
      "metadata": {
        "colab": {
          "base_uri": "https://localhost:8080/"
        },
        "id": "cfN-p447ACnI",
        "outputId": "aad6cd11-9de4-4d4b-b374-2a89f03ded6b"
      },
      "execution_count": 4,
      "outputs": [
        {
          "output_type": "stream",
          "name": "stdout",
          "text": [
            "Collecting earthaccess\n",
            "  Downloading earthaccess-0.14.0-py3-none-any.whl.metadata (8.2 kB)\n",
            "Requirement already satisfied: fsspec>=2022.11 in /usr/local/lib/python3.11/dist-packages (from earthaccess) (2025.3.2)\n",
            "Requirement already satisfied: importlib-resources>=6.3.2 in /usr/local/lib/python3.11/dist-packages (from earthaccess) (6.5.2)\n",
            "Collecting multimethod>=1.8 (from earthaccess)\n",
            "  Downloading multimethod-2.0-py3-none-any.whl.metadata (9.2 kB)\n",
            "Collecting pqdm>=0.1 (from earthaccess)\n",
            "  Downloading pqdm-0.2.0-py2.py3-none-any.whl.metadata (3.2 kB)\n",
            "Collecting python-cmr>=0.10.0 (from earthaccess)\n",
            "  Downloading python_cmr-0.13.0-py3-none-any.whl.metadata (10 kB)\n",
            "Requirement already satisfied: requests>=2.26 in /usr/local/lib/python3.11/dist-packages (from earthaccess) (2.32.3)\n",
            "Collecting s3fs>=2022.11 (from earthaccess)\n",
            "  Downloading s3fs-2025.3.2-py3-none-any.whl.metadata (1.9 kB)\n",
            "Collecting tinynetrc>=1.3.1 (from earthaccess)\n",
            "  Downloading tinynetrc-1.3.1-py2.py3-none-any.whl.metadata (2.9 kB)\n",
            "Requirement already satisfied: typing-extensions>=4.10.0 in /usr/local/lib/python3.11/dist-packages (from earthaccess) (4.13.2)\n",
            "Collecting bounded-pool-executor (from pqdm>=0.1->earthaccess)\n",
            "  Downloading bounded_pool_executor-0.0.3-py3-none-any.whl.metadata (2.7 kB)\n",
            "Requirement already satisfied: tqdm in /usr/local/lib/python3.11/dist-packages (from pqdm>=0.1->earthaccess) (4.67.1)\n",
            "Requirement already satisfied: python-dateutil<3.0.0,>=2.8.2 in /usr/local/lib/python3.11/dist-packages (from python-cmr>=0.10.0->earthaccess) (2.9.0.post0)\n",
            "Requirement already satisfied: charset-normalizer<4,>=2 in /usr/local/lib/python3.11/dist-packages (from requests>=2.26->earthaccess) (3.4.1)\n",
            "Requirement already satisfied: idna<4,>=2.5 in /usr/local/lib/python3.11/dist-packages (from requests>=2.26->earthaccess) (3.10)\n",
            "Requirement already satisfied: urllib3<3,>=1.21.1 in /usr/local/lib/python3.11/dist-packages (from requests>=2.26->earthaccess) (2.4.0)\n",
            "Requirement already satisfied: certifi>=2017.4.17 in /usr/local/lib/python3.11/dist-packages (from requests>=2.26->earthaccess) (2025.1.31)\n",
            "Collecting aiobotocore<3.0.0,>=2.5.4 (from s3fs>=2022.11->earthaccess)\n",
            "  Downloading aiobotocore-2.21.1-py3-none-any.whl.metadata (24 kB)\n",
            "Requirement already satisfied: aiohttp!=4.0.0a0,!=4.0.0a1 in /usr/local/lib/python3.11/dist-packages (from s3fs>=2022.11->earthaccess) (3.11.15)\n",
            "Collecting aioitertools<1.0.0,>=0.5.1 (from aiobotocore<3.0.0,>=2.5.4->s3fs>=2022.11->earthaccess)\n",
            "  Downloading aioitertools-0.12.0-py3-none-any.whl.metadata (3.8 kB)\n",
            "Collecting botocore<1.37.2,>=1.37.0 (from aiobotocore<3.0.0,>=2.5.4->s3fs>=2022.11->earthaccess)\n",
            "  Downloading botocore-1.37.1-py3-none-any.whl.metadata (5.7 kB)\n",
            "Collecting jmespath<2.0.0,>=0.7.1 (from aiobotocore<3.0.0,>=2.5.4->s3fs>=2022.11->earthaccess)\n",
            "  Downloading jmespath-1.0.1-py3-none-any.whl.metadata (7.6 kB)\n",
            "Requirement already satisfied: multidict<7.0.0,>=6.0.0 in /usr/local/lib/python3.11/dist-packages (from aiobotocore<3.0.0,>=2.5.4->s3fs>=2022.11->earthaccess) (6.4.3)\n",
            "Requirement already satisfied: wrapt<2.0.0,>=1.10.10 in /usr/local/lib/python3.11/dist-packages (from aiobotocore<3.0.0,>=2.5.4->s3fs>=2022.11->earthaccess) (1.17.2)\n",
            "Requirement already satisfied: aiohappyeyeballs>=2.3.0 in /usr/local/lib/python3.11/dist-packages (from aiohttp!=4.0.0a0,!=4.0.0a1->s3fs>=2022.11->earthaccess) (2.6.1)\n",
            "Requirement already satisfied: aiosignal>=1.1.2 in /usr/local/lib/python3.11/dist-packages (from aiohttp!=4.0.0a0,!=4.0.0a1->s3fs>=2022.11->earthaccess) (1.3.2)\n",
            "Requirement already satisfied: attrs>=17.3.0 in /usr/local/lib/python3.11/dist-packages (from aiohttp!=4.0.0a0,!=4.0.0a1->s3fs>=2022.11->earthaccess) (25.3.0)\n",
            "Requirement already satisfied: frozenlist>=1.1.1 in /usr/local/lib/python3.11/dist-packages (from aiohttp!=4.0.0a0,!=4.0.0a1->s3fs>=2022.11->earthaccess) (1.6.0)\n",
            "Requirement already satisfied: propcache>=0.2.0 in /usr/local/lib/python3.11/dist-packages (from aiohttp!=4.0.0a0,!=4.0.0a1->s3fs>=2022.11->earthaccess) (0.3.1)\n",
            "Requirement already satisfied: yarl<2.0,>=1.17.0 in /usr/local/lib/python3.11/dist-packages (from aiohttp!=4.0.0a0,!=4.0.0a1->s3fs>=2022.11->earthaccess) (1.20.0)\n",
            "Requirement already satisfied: six>=1.5 in /usr/local/lib/python3.11/dist-packages (from python-dateutil<3.0.0,>=2.8.2->python-cmr>=0.10.0->earthaccess) (1.17.0)\n",
            "Downloading earthaccess-0.14.0-py3-none-any.whl (64 kB)\n",
            "\u001b[2K   \u001b[90m━━━━━━━━━━━━━━━━━━━━━━━━━━━━━━━━━━━━━━━━\u001b[0m \u001b[32m64.9/64.9 kB\u001b[0m \u001b[31m5.2 MB/s\u001b[0m eta \u001b[36m0:00:00\u001b[0m\n",
            "\u001b[?25hDownloading multimethod-2.0-py3-none-any.whl (9.8 kB)\n",
            "Downloading pqdm-0.2.0-py2.py3-none-any.whl (6.8 kB)\n",
            "Downloading python_cmr-0.13.0-py3-none-any.whl (14 kB)\n",
            "Downloading s3fs-2025.3.2-py3-none-any.whl (30 kB)\n",
            "Downloading tinynetrc-1.3.1-py2.py3-none-any.whl (3.9 kB)\n",
            "Downloading aiobotocore-2.21.1-py3-none-any.whl (78 kB)\n",
            "\u001b[2K   \u001b[90m━━━━━━━━━━━━━━━━━━━━━━━━━━━━━━━━━━━━━━━━\u001b[0m \u001b[32m78.3/78.3 kB\u001b[0m \u001b[31m5.4 MB/s\u001b[0m eta \u001b[36m0:00:00\u001b[0m\n",
            "\u001b[?25hDownloading bounded_pool_executor-0.0.3-py3-none-any.whl (3.4 kB)\n",
            "Downloading aioitertools-0.12.0-py3-none-any.whl (24 kB)\n",
            "Downloading botocore-1.37.1-py3-none-any.whl (13.4 MB)\n",
            "\u001b[2K   \u001b[90m━━━━━━━━━━━━━━━━━━━━━━━━━━━━━━━━━━━━━━━━\u001b[0m \u001b[32m13.4/13.4 MB\u001b[0m \u001b[31m101.4 MB/s\u001b[0m eta \u001b[36m0:00:00\u001b[0m\n",
            "\u001b[?25hDownloading jmespath-1.0.1-py3-none-any.whl (20 kB)\n",
            "Installing collected packages: tinynetrc, bounded-pool-executor, pqdm, multimethod, jmespath, aioitertools, python-cmr, botocore, aiobotocore, s3fs, earthaccess\n",
            "Successfully installed aiobotocore-2.21.1 aioitertools-0.12.0 botocore-1.37.1 bounded-pool-executor-0.0.3 earthaccess-0.14.0 jmespath-1.0.1 multimethod-2.0 pqdm-0.2.0 python-cmr-0.13.0 s3fs-2025.3.2 tinynetrc-1.3.1\n"
          ]
        }
      ]
    },
    {
      "cell_type": "code",
      "source": [
        "!pip install netCDF4"
      ],
      "metadata": {
        "colab": {
          "base_uri": "https://localhost:8080/"
        },
        "id": "gtX18DKxAJ9e",
        "outputId": "b4eb50c3-d66f-4694-db1e-bb735ebf2c27"
      },
      "execution_count": 5,
      "outputs": [
        {
          "output_type": "stream",
          "name": "stdout",
          "text": [
            "Collecting netCDF4\n",
            "  Downloading netCDF4-1.7.2-cp311-cp311-manylinux_2_17_x86_64.manylinux2014_x86_64.whl.metadata (1.8 kB)\n",
            "Collecting cftime (from netCDF4)\n",
            "  Downloading cftime-1.6.4.post1-cp311-cp311-manylinux_2_17_x86_64.manylinux2014_x86_64.whl.metadata (8.7 kB)\n",
            "Requirement already satisfied: certifi in /usr/local/lib/python3.11/dist-packages (from netCDF4) (2025.1.31)\n",
            "Requirement already satisfied: numpy in /usr/local/lib/python3.11/dist-packages (from netCDF4) (2.0.2)\n",
            "Downloading netCDF4-1.7.2-cp311-cp311-manylinux_2_17_x86_64.manylinux2014_x86_64.whl (9.3 MB)\n",
            "\u001b[2K   \u001b[90m━━━━━━━━━━━━━━━━━━━━━━━━━━━━━━━━━━━━━━━━\u001b[0m \u001b[32m9.3/9.3 MB\u001b[0m \u001b[31m71.4 MB/s\u001b[0m eta \u001b[36m0:00:00\u001b[0m\n",
            "\u001b[?25hDownloading cftime-1.6.4.post1-cp311-cp311-manylinux_2_17_x86_64.manylinux2014_x86_64.whl (1.4 MB)\n",
            "\u001b[2K   \u001b[90m━━━━━━━━━━━━━━━━━━━━━━━━━━━━━━━━━━━━━━━━\u001b[0m \u001b[32m1.4/1.4 MB\u001b[0m \u001b[31m51.0 MB/s\u001b[0m eta \u001b[36m0:00:00\u001b[0m\n",
            "\u001b[?25hInstalling collected packages: cftime, netCDF4\n",
            "Successfully installed cftime-1.6.4.post1 netCDF4-1.7.2\n"
          ]
        }
      ]
    },
    {
      "cell_type": "code",
      "source": [
        "earthaccess.login() # Login with your EDL credentials if asked"
      ],
      "metadata": {
        "colab": {
          "base_uri": "https://localhost:8080/"
        },
        "id": "GWIhIc4MAWBa",
        "outputId": "ed8b974b-26a2-4535-d2ca-c2e592e74a8e"
      },
      "execution_count": 7,
      "outputs": [
        {
          "name": "stdout",
          "output_type": "stream",
          "text": [
            "Enter your Earthdata Login username: chhandana\n",
            "Enter your Earthdata password: ··········\n"
          ]
        },
        {
          "output_type": "execute_result",
          "data": {
            "text/plain": [
              "<earthaccess.auth.Auth at 0x7e26cad99c50>"
            ]
          },
          "metadata": {},
          "execution_count": 7
        }
      ]
    },
    {
      "cell_type": "code",
      "source": [
        "# Search and locate granules\n",
        "granule_info = earthaccess.search_data(\n",
        "    short_name=\"SWOT_L4_DAWG_SOS_DISCHARGE\",\n",
        "    temporal=(\"2024-04-07\", \"2025-04-26\"),\n",
        ")\n",
        "granule_info\n",
        "\n"
      ],
      "metadata": {
        "colab": {
          "base_uri": "https://localhost:8080/"
        },
        "id": "FNOtZJVJBLB_",
        "outputId": "a12b4a12-1993-4633-97ae-52e6a8f90ba7"
      },
      "execution_count": 8,
      "outputs": [
        {
          "output_type": "execute_result",
          "data": {
            "text/plain": [
              "[Collection: {'Version': '1', 'ShortName': 'SWOT_L4_DAWG_SOS_DISCHARGE'}\n",
              " Spatial coverage: {'HorizontalSpatialDomain': {'Geometry': {'BoundingRectangles': [{'WestBoundingCoordinate': -166.397, 'SouthBoundingCoordinate': 8.09, 'EastBoundingCoordinate': 8.09, 'NorthBoundingCoordinate': 82.311}]}}}\n",
              " Temporal coverage: {'RangeDateTime': {'EndingDateTime': '2024-04-20T05:36:29.000Z', 'BeginningDateTime': '2023-03-29T08:52:24.000Z'}}\n",
              " Size(MB): 1927.0171918869019\n",
              " Data: ['https://archive.podaac.earthdata.nasa.gov/podaac-ops-cumulus-protected/SWOT_L4_DAWG_SOS_DISCHARGE/na_sword_v16_SOS_unconstrained_0001_20240611T010141_results.nc', 'https://archive.podaac.earthdata.nasa.gov/podaac-ops-cumulus-protected/SWOT_L4_DAWG_SOS_DISCHARGE/na_sword_v16_SOS_unconstrained_0001_20240611T010141_priors.nc'],\n",
              " Collection: {'Version': '1', 'ShortName': 'SWOT_L4_DAWG_SOS_DISCHARGE'}\n",
              " Spatial coverage: {'HorizontalSpatialDomain': {'Geometry': {'BoundingRectangles': [{'WestBoundingCoordinate': -166.397, 'SouthBoundingCoordinate': 8.09, 'EastBoundingCoordinate': 8.09, 'NorthBoundingCoordinate': 82.311}]}}}\n",
              " Temporal coverage: {'RangeDateTime': {'EndingDateTime': '2024-07-21T15:00:03.000Z', 'BeginningDateTime': '2023-03-30T19:14:25.000Z'}}\n",
              " Size(MB): 2394.4223861694336\n",
              " Data: ['https://archive.podaac.earthdata.nasa.gov/podaac-ops-cumulus-protected/SWOT_L4_DAWG_SOS_DISCHARGE/na_sword_v16_SOS_unconstrained_0001_20240726T123358_results.nc', 'https://archive.podaac.earthdata.nasa.gov/podaac-ops-cumulus-protected/SWOT_L4_DAWG_SOS_DISCHARGE/na_sword_v16_SOS_unconstrained_0001_20240726T123358_priors.nc'],\n",
              " Collection: {'Version': '1', 'ShortName': 'SWOT_L4_DAWG_SOS_DISCHARGE'}\n",
              " Spatial coverage: {'HorizontalSpatialDomain': {'Geometry': {'BoundingRectangles': [{'WestBoundingCoordinate': -21.794, 'SouthBoundingCoordinate': 25.382, 'EastBoundingCoordinate': 25.382, 'NorthBoundingCoordinate': 81.115}]}}}\n",
              " Temporal coverage: {'RangeDateTime': {'EndingDateTime': '2024-07-21T21:23:33.000Z', 'BeginningDateTime': '2023-03-31T00:03:33.000Z'}}\n",
              " Size(MB): 980.8239622116089\n",
              " Data: ['https://archive.podaac.earthdata.nasa.gov/podaac-ops-cumulus-protected/SWOT_L4_DAWG_SOS_DISCHARGE/eu_sword_v16_SOS_unconstrained_0001_20240726T123345_results.nc', 'https://archive.podaac.earthdata.nasa.gov/podaac-ops-cumulus-protected/SWOT_L4_DAWG_SOS_DISCHARGE/eu_sword_v16_SOS_unconstrained_0001_20240726T123345_priors.nc'],\n",
              " Collection: {'Version': '1', 'ShortName': 'SWOT_L4_DAWG_SOS_DISCHARGE'}\n",
              " Spatial coverage: {'HorizontalSpatialDomain': {'Geometry': {'BoundingRectangles': [{'WestBoundingCoordinate': -81.139, 'SouthBoundingCoordinate': -52, 'EastBoundingCoordinate': -52, 'NorthBoundingCoordinate': 11.097}]}}}\n",
              " Temporal coverage: {'RangeDateTime': {'EndingDateTime': '2024-07-21T11:44:55.000Z', 'BeginningDateTime': '2023-03-31T16:02:31.000Z'}}\n",
              " Size(MB): 1605.4143018722534\n",
              " Data: ['https://archive.podaac.earthdata.nasa.gov/podaac-ops-cumulus-protected/SWOT_L4_DAWG_SOS_DISCHARGE/sa_sword_v16_SOS_unconstrained_0001_20240726T123343_results.nc', 'https://archive.podaac.earthdata.nasa.gov/podaac-ops-cumulus-protected/SWOT_L4_DAWG_SOS_DISCHARGE/sa_sword_v16_SOS_unconstrained_0001_20240726T123343_priors.nc'],\n",
              " Collection: {'Version': '1', 'ShortName': 'SWOT_L4_DAWG_SOS_DISCHARGE'}\n",
              " Spatial coverage: {'HorizontalSpatialDomain': {'Geometry': {'BoundingRectangles': [{'WestBoundingCoordinate': -16.598, 'SouthBoundingCoordinate': -34.496, 'EastBoundingCoordinate': 180, 'NorthBoundingCoordinate': 37.025}, {'WestBoundingCoordinate': -180, 'SouthBoundingCoordinate': -34.496, 'EastBoundingCoordinate': -34.496, 'NorthBoundingCoordinate': 37.025}]}}}\n",
              " Temporal coverage: {'RangeDateTime': {'EndingDateTime': '2024-07-20T19:17:10.000Z', 'BeginningDateTime': '2023-04-05T21:04:16.000Z'}}\n",
              " Size(MB): 832.4586486816406\n",
              " Data: ['https://archive.podaac.earthdata.nasa.gov/podaac-ops-cumulus-protected/SWOT_L4_DAWG_SOS_DISCHARGE/af_sword_v16_SOS_unconstrained_0001_20240726T123343_results.nc', 'https://archive.podaac.earthdata.nasa.gov/podaac-ops-cumulus-protected/SWOT_L4_DAWG_SOS_DISCHARGE/af_sword_v16_SOS_unconstrained_0001_20240726T123343_priors.nc'],\n",
              " Collection: {'Version': '1', 'ShortName': 'SWOT_L4_DAWG_SOS_DISCHARGE'}\n",
              " Spatial coverage: {'HorizontalSpatialDomain': {'Geometry': {'BoundingRectangles': [{'WestBoundingCoordinate': 95.318, 'SouthBoundingCoordinate': -46.58, 'EastBoundingCoordinate': 180, 'NorthBoundingCoordinate': 18.477}, {'WestBoundingCoordinate': -180, 'SouthBoundingCoordinate': -46.58, 'EastBoundingCoordinate': -46.58, 'NorthBoundingCoordinate': 18.477}]}}}\n",
              " Temporal coverage: {'RangeDateTime': {'EndingDateTime': '2024-07-20T23:53:20.000Z', 'BeginningDateTime': '2023-04-06T01:39:53.000Z'}}\n",
              " Size(MB): 642.9808235168457\n",
              " Data: ['https://archive.podaac.earthdata.nasa.gov/podaac-ops-cumulus-protected/SWOT_L4_DAWG_SOS_DISCHARGE/oc_sword_v16_SOS_unconstrained_0001_20240726T123327_results.nc', 'https://archive.podaac.earthdata.nasa.gov/podaac-ops-cumulus-protected/SWOT_L4_DAWG_SOS_DISCHARGE/oc_sword_v16_SOS_unconstrained_0001_20240726T123327_priors.nc'],\n",
              " Collection: {'Version': '1', 'ShortName': 'SWOT_L4_DAWG_SOS_DISCHARGE'}\n",
              " Spatial coverage: {'HorizontalSpatialDomain': {'Geometry': {'BoundingRectangles': [{'WestBoundingCoordinate': -81.139, 'SouthBoundingCoordinate': -52, 'EastBoundingCoordinate': -52, 'NorthBoundingCoordinate': 11.097}]}}}\n",
              " Temporal coverage: {'RangeDateTime': {'EndingDateTime': '2024-04-12T15:06:39.000Z', 'BeginningDateTime': '2023-11-22T02:54:36.000Z'}}\n",
              " Size(MB): 1655.1171894073486\n",
              " Data: ['https://archive.podaac.earthdata.nasa.gov/podaac-ops-cumulus-protected/SWOT_L4_DAWG_SOS_DISCHARGE/sa_sword_v16_SOS_unconstrained_0001_20240608T010854_results.nc', 'https://archive.podaac.earthdata.nasa.gov/podaac-ops-cumulus-protected/SWOT_L4_DAWG_SOS_DISCHARGE/sa_sword_v16_SOS_unconstrained_0001_20240608T010854_priors.nc'],\n",
              " Collection: {'Version': '1', 'ShortName': 'SWOT_L4_DAWG_SOS_DISCHARGE'}\n",
              " Spatial coverage: {'HorizontalSpatialDomain': {'Geometry': {'BoundingRectangles': [{'WestBoundingCoordinate': -16.598, 'SouthBoundingCoordinate': -34.496, 'EastBoundingCoordinate': 180, 'NorthBoundingCoordinate': 37.025}, {'WestBoundingCoordinate': -180, 'SouthBoundingCoordinate': -34.496, 'EastBoundingCoordinate': -34.496, 'NorthBoundingCoordinate': 37.025}]}}}\n",
              " Temporal coverage: {'RangeDateTime': {'EndingDateTime': '2024-04-08T11:32:27.000Z', 'BeginningDateTime': '2023-11-22T08:37:48.000Z'}}\n",
              " Size(MB): 861.7201089859009\n",
              " Data: ['https://archive.podaac.earthdata.nasa.gov/podaac-ops-cumulus-protected/SWOT_L4_DAWG_SOS_DISCHARGE/af_sword_v16_SOS_unconstrained_0001_20240608T010910_results.nc', 'https://archive.podaac.earthdata.nasa.gov/podaac-ops-cumulus-protected/SWOT_L4_DAWG_SOS_DISCHARGE/af_sword_v16_SOS_unconstrained_0001_20240608T010910_priors.nc'],\n",
              " Collection: {'Version': '1', 'ShortName': 'SWOT_L4_DAWG_SOS_DISCHARGE'}\n",
              " Spatial coverage: {'HorizontalSpatialDomain': {'Geometry': {'BoundingRectangles': [{'WestBoundingCoordinate': -21.794, 'SouthBoundingCoordinate': 25.382, 'EastBoundingCoordinate': 25.382, 'NorthBoundingCoordinate': 81.115}]}}}\n",
              " Temporal coverage: {'RangeDateTime': {'EndingDateTime': '2024-04-12T13:41:15.000Z', 'BeginningDateTime': '2023-11-22T21:23:14.000Z'}}\n",
              " Size(MB): 995.4872627258301\n",
              " Data: ['https://archive.podaac.earthdata.nasa.gov/podaac-ops-cumulus-protected/SWOT_L4_DAWG_SOS_DISCHARGE/eu_sword_v16_SOS_unconstrained_0001_20240608T010920_results.nc', 'https://archive.podaac.earthdata.nasa.gov/podaac-ops-cumulus-protected/SWOT_L4_DAWG_SOS_DISCHARGE/eu_sword_v16_SOS_unconstrained_0001_20240608T010920_priors.nc']]"
            ]
          },
          "metadata": {},
          "execution_count": 8
        }
      ]
    },
    {
      "cell_type": "code",
      "source": [
        "# Enter a directory path to store downloaded data in\n",
        "downloads_dir = pathlib.Path(\"data_downloads\")\n",
        "downloads_dir.mkdir(parents=True, exist_ok=True)\n",
        "\n",
        "# Select a priors and results pair to explore\n",
        "download_links = [[link for link in earthaccess.results.DataGranule.data_links(granule)] for granule in granule_info]\n",
        "print(\"Select a priors and results file to explore:\")\n",
        "for downloads in download_links:\n",
        "    for download in downloads:\n",
        "        if \"priors\" in download: print(download)\n",
        "\n"
      ],
      "metadata": {
        "colab": {
          "base_uri": "https://localhost:8080/"
        },
        "id": "i_ZY7-uzBWP3",
        "outputId": "0d8c7c9b-23f5-4403-fe93-c27b31ea6e1c"
      },
      "execution_count": 9,
      "outputs": [
        {
          "output_type": "stream",
          "name": "stdout",
          "text": [
            "Select a priors and results file to explore:\n",
            "https://archive.podaac.earthdata.nasa.gov/podaac-ops-cumulus-protected/SWOT_L4_DAWG_SOS_DISCHARGE/na_sword_v16_SOS_unconstrained_0001_20240611T010141_priors.nc\n",
            "https://archive.podaac.earthdata.nasa.gov/podaac-ops-cumulus-protected/SWOT_L4_DAWG_SOS_DISCHARGE/na_sword_v16_SOS_unconstrained_0001_20240726T123358_priors.nc\n",
            "https://archive.podaac.earthdata.nasa.gov/podaac-ops-cumulus-protected/SWOT_L4_DAWG_SOS_DISCHARGE/eu_sword_v16_SOS_unconstrained_0001_20240726T123345_priors.nc\n",
            "https://archive.podaac.earthdata.nasa.gov/podaac-ops-cumulus-protected/SWOT_L4_DAWG_SOS_DISCHARGE/sa_sword_v16_SOS_unconstrained_0001_20240726T123343_priors.nc\n",
            "https://archive.podaac.earthdata.nasa.gov/podaac-ops-cumulus-protected/SWOT_L4_DAWG_SOS_DISCHARGE/af_sword_v16_SOS_unconstrained_0001_20240726T123343_priors.nc\n",
            "https://archive.podaac.earthdata.nasa.gov/podaac-ops-cumulus-protected/SWOT_L4_DAWG_SOS_DISCHARGE/oc_sword_v16_SOS_unconstrained_0001_20240726T123327_priors.nc\n",
            "https://archive.podaac.earthdata.nasa.gov/podaac-ops-cumulus-protected/SWOT_L4_DAWG_SOS_DISCHARGE/sa_sword_v16_SOS_unconstrained_0001_20240608T010854_priors.nc\n",
            "https://archive.podaac.earthdata.nasa.gov/podaac-ops-cumulus-protected/SWOT_L4_DAWG_SOS_DISCHARGE/af_sword_v16_SOS_unconstrained_0001_20240608T010910_priors.nc\n",
            "https://archive.podaac.earthdata.nasa.gov/podaac-ops-cumulus-protected/SWOT_L4_DAWG_SOS_DISCHARGE/eu_sword_v16_SOS_unconstrained_0001_20240608T010920_priors.nc\n"
          ]
        }
      ]
    },
    {
      "cell_type": "code",
      "source": [
        "# Select Europe (\"eu\") priors file to work with\n",
        "priors_link = \"https://archive.podaac.earthdata.nasa.gov/podaac-ops-cumulus-protected/SWOT_L4_DAWG_SOS_DISCHARGE/eu_sword_v15_SOS_unconstrained_0001_20240228T205029_priors.nc\"\n",
        "\n",
        "# Select results\n",
        "results_link = priors_link.replace(\"priors\", \"results\")\n",
        "\n",
        "earthaccess.download(priors_link, downloads_dir)\n",
        "earthaccess.download(results_link, downloads_dir)\n",
        "\n"
      ],
      "metadata": {
        "colab": {
          "base_uri": "https://localhost:8080/",
          "height": 226,
          "referenced_widgets": [
            "d811e0adb2be49638941f833bc88f29d",
            "58b4ef7121824e899c5acd24160e4232",
            "aed665962e1e4ca88e20ea5ef491c68a",
            "665555d5d8a748159e8ecfd4ee4ce7f0",
            "dcac3b4da362456c8fff7b4c344568d6",
            "146b1f1b092f459fa5586477c4412dc0",
            "f9b46c2e6d0b423b94aba52dbf70bece",
            "3e27d641f4c84672aa734aa7024c3425",
            "f423f662b6824b969a8dae62357eb703",
            "e911d131dae841f5990d0696c34162bf",
            "238f05040f184ab4bb96d3d28c01bc71",
            "23bf870088a942a1a7202d72440149e3",
            "2e173fca9c2242db802de843b2365ee1",
            "8c2b653bb92843caae21d22224834ceb",
            "0b50cfea35ff4b96915a359ae3365838",
            "4a567b0bb7684df586b58189ae12da4c",
            "299ece62aa524929ba402e0d9be76361",
            "129a501b7bbf409ea3a15d1fe091fa70",
            "7d55c2348ea64626b40cddb6a1fe10d9",
            "73dfbb5ff8ef4d3284ac5506c94dbb36",
            "9f2971286782428680aefa7f3fe21dfa",
            "67d0c4fc0aba4c808afb2d38f580a3fe",
            "c263c86da3ee4bda8034095adfbb88cb",
            "0c8c4c9d2627494c91587cfe5e6e7993",
            "ee44676bfc8b4fa78d78b8680f4f3f22",
            "d82734264e1346089cc7cb6c948b165a",
            "f6f94fc33d5a4421be726e2c3a532ef9",
            "97b5d9fed9ad4e9a80b8835f221b1ce3",
            "dce7e75a301b4554bcf063d68110b81e",
            "a8723245eec24c91aa9574ae35b5c2d4",
            "843a2273aa3f4f60a71c084bfb340028",
            "75144a0fc4d344cdb5cf59d315891e2b",
            "f5ce048157ee4333a43f195af15b20ef",
            "0d2aba81111e4ab0b77baa664d62ac43",
            "b3b2fae44b0d42bcbde6834ee83fcfdd",
            "964ef18ee4bf41bfa6e5e4a75d2bdc17",
            "048bc6410c3549bbb60ce22d525817d8",
            "411bcd71424144aa86c719f4c5f9200d",
            "8b57f6a9079c49fda54e000c4369d43b",
            "09f13dad81fc4678bda351c29b24eb16",
            "b81dd2b6a1864df380558cbd2a6770e0",
            "2a323d9c63c2494d893d6a664835cd84",
            "6b6e35ff843744cc9f306a31e5675097",
            "dde63caacd6a4e9a89b9e7d376511161",
            "735b0bcf8c504073b2c2fe6ebfc09510",
            "b9c5e815b48c4b4d9cd5c1417e021f89",
            "bd37afb3f9e84a4c92bd66d8b3b5dbc2",
            "d7fd427c8a9e41d2a4a25786ab1b55d1",
            "980bf12bbb804324a461a6e8eb9c665c",
            "e4a7f0522b7a488980320da0c38826f6",
            "90200396d9694e2f8041989ea084d1b6",
            "bbff702acafd47089518b1329a48608b",
            "7cbfe5be1c514382ad3d26d22f5694ef",
            "76a69f705c5c4ab68dadcc944166b1b0",
            "545b7c9cb9f94ae28374ede7c86f73a8",
            "7dea143699fa448996730c7fb96dfeeb",
            "2898fae24d6f4c5785af2184403ac8fc",
            "f9d6984dbb0646f089e6ecd1d083ba0e",
            "21fb4ff13360471880777bba9407ce7e",
            "fd86b53126a14f239927079abbaab7ec",
            "5f61948381db4d0f80a1c7c08ac64ada",
            "ad0f32bddf28458383f0ef52a04535e1",
            "5e5e2b9e219f41f89d7b74fe326c39b4",
            "8a687dc746d241d59be14039867988aa",
            "d1dc1453569f4975aed2f351aaac6cef",
            "e5b148c2e38d4ec09ebf12ee5f11eda1"
          ]
        },
        "id": "eKNZn_euBfyC",
        "outputId": "1d5b9e9e-8a20-43f2-e7e4-e75901436761"
      },
      "execution_count": 10,
      "outputs": [
        {
          "output_type": "display_data",
          "data": {
            "text/plain": [
              "QUEUEING TASKS | :   0%|          | 0/1 [00:00<?, ?it/s]"
            ],
            "application/vnd.jupyter.widget-view+json": {
              "version_major": 2,
              "version_minor": 0,
              "model_id": "d811e0adb2be49638941f833bc88f29d"
            }
          },
          "metadata": {}
        },
        {
          "output_type": "display_data",
          "data": {
            "text/plain": [
              "PROCESSING TASKS | :   0%|          | 0/1 [00:00<?, ?it/s]"
            ],
            "application/vnd.jupyter.widget-view+json": {
              "version_major": 2,
              "version_minor": 0,
              "model_id": "23bf870088a942a1a7202d72440149e3"
            }
          },
          "metadata": {}
        },
        {
          "output_type": "display_data",
          "data": {
            "text/plain": [
              "COLLECTING RESULTS | :   0%|          | 0/1 [00:00<?, ?it/s]"
            ],
            "application/vnd.jupyter.widget-view+json": {
              "version_major": 2,
              "version_minor": 0,
              "model_id": "c263c86da3ee4bda8034095adfbb88cb"
            }
          },
          "metadata": {}
        },
        {
          "output_type": "display_data",
          "data": {
            "text/plain": [
              "QUEUEING TASKS | :   0%|          | 0/1 [00:00<?, ?it/s]"
            ],
            "application/vnd.jupyter.widget-view+json": {
              "version_major": 2,
              "version_minor": 0,
              "model_id": "0d2aba81111e4ab0b77baa664d62ac43"
            }
          },
          "metadata": {}
        },
        {
          "output_type": "display_data",
          "data": {
            "text/plain": [
              "PROCESSING TASKS | :   0%|          | 0/1 [00:00<?, ?it/s]"
            ],
            "application/vnd.jupyter.widget-view+json": {
              "version_major": 2,
              "version_minor": 0,
              "model_id": "735b0bcf8c504073b2c2fe6ebfc09510"
            }
          },
          "metadata": {}
        },
        {
          "output_type": "display_data",
          "data": {
            "text/plain": [
              "COLLECTING RESULTS | :   0%|          | 0/1 [00:00<?, ?it/s]"
            ],
            "application/vnd.jupyter.widget-view+json": {
              "version_major": 2,
              "version_minor": 0,
              "model_id": "7dea143699fa448996730c7fb96dfeeb"
            }
          },
          "metadata": {}
        },
        {
          "output_type": "execute_result",
          "data": {
            "text/plain": [
              "['data_downloads/eu_sword_v15_SOS_unconstrained_0001_20240228T205029_results.nc']"
            ]
          },
          "metadata": {},
          "execution_count": 10
        }
      ]
    },
    {
      "cell_type": "code",
      "source": [
        "# Open downloaded files to access SoS granule data\n",
        "priors_download = priors_link.split('/')[-1]\n",
        "results_download = results_link.split('/')[-1]\n",
        "\n",
        "priors = nc.Dataset(downloads_dir.joinpath(priors_download), format=\"NETCDF4\")\n",
        "results = nc.Dataset(downloads_dir.joinpath(results_download), format=\"NETCDF4\")"
      ],
      "metadata": {
        "id": "5tGwPxmPBnot"
      },
      "execution_count": 11,
      "outputs": []
    },
    {
      "cell_type": "code",
      "source": [
        "# Constants\n",
        "\n",
        "# Select a river\n",
        "RIVER_NAME = \"Rhine\"\n",
        "\n",
        "# Select a discharge algorithm (hivdi, neobam, metroman, momma, sad, sic4dvar)\n",
        "DISCHARGE_ALGORITHM = \"hivdi\"\n",
        "DISCHARGE_VARIABLE = \"Q\""
      ],
      "metadata": {
        "id": "BMnmX_siBsNW"
      },
      "execution_count": 12,
      "outputs": []
    },
    {
      "cell_type": "code",
      "source": [
        "# Display the priors groups\n",
        "print(\"Priors Groups:\")\n",
        "print(priors.groups)"
      ],
      "metadata": {
        "colab": {
          "base_uri": "https://localhost:8080/"
        },
        "id": "UAV6Xfz7Bwbk",
        "outputId": "a2900cb2-0504-4eff-f687-b54186c13438"
      },
      "execution_count": 13,
      "outputs": [
        {
          "output_type": "stream",
          "name": "stdout",
          "text": [
            "Priors Groups:\n",
            "{'reaches': <class 'netCDF4.Group'>\n",
            "group /reaches:\n",
            "    dimensions(sizes): \n",
            "    variables(dimensions): int64 reach_id(num_reaches), float64 x(num_reaches), float64 y(num_reaches), <class 'str'> river_name(num_reaches)\n",
            "    groups: , 'nodes': <class 'netCDF4.Group'>\n",
            "group /nodes:\n",
            "    dimensions(sizes): \n",
            "    variables(dimensions): int64 node_id(num_nodes), int64 reach_id(num_nodes), float64 x(num_nodes), float64 y(num_nodes), <class 'str'> river_name(num_nodes)\n",
            "    groups: , 'model': <class 'netCDF4.Group'>\n",
            "group /model:\n",
            "    dimensions(sizes): num_months(12), probability(20)\n",
            "    variables(dimensions): int32 num_months(num_months), int32 probability(probability), float64 flow_duration_q(num_reaches, probability), float64 max_q(num_reaches), float64 monthly_q(num_reaches, num_months), float64 mean_q(num_reaches), float64 min_q(num_reaches), float64 two_year_return_q(num_reaches), int32 area_estimate_flag(num_reaches)\n",
            "    groups: , 'gbpriors': <class 'netCDF4.Group'>\n",
            "group /gbpriors:\n",
            "    dimensions(sizes): \n",
            "    variables(dimensions): \n",
            "    groups: reach, node, 'EAU': <class 'netCDF4.Group'>\n",
            "group /EAU:\n",
            "    dimensions(sizes): num_days(16130), num_months(12), probability(20), nchars(100), num_EAU_reaches(243)\n",
            "    variables(dimensions): int32 num_days(num_days), int32 CAL(num_EAU_reaches), int32 EAU_reaches(num_EAU_reaches), int64 EAU_reach_id(num_EAU_reaches), float64 EAU_flow_duration_q(num_EAU_reaches, probability), float64 EAU_max_q(num_EAU_reaches), float64 EAU_monthly_q(num_EAU_reaches, num_months), float64 EAU_mean_q(num_EAU_reaches), float64 EAU_min_q(num_EAU_reaches), float64 EAU_two_year_return_q(num_EAU_reaches), |S1 EAU_id(num_EAU_reaches, nchars), float64 EAU_q(num_EAU_reaches, num_days), float64 EAU_qt(num_EAU_reaches, num_days)\n",
            "    groups: , 'DEFRA': <class 'netCDF4.Group'>\n",
            "group /DEFRA:\n",
            "    dimensions(sizes): num_days(16130), num_months(12), probability(20), nchars(100), num_DEFRA_reaches(26)\n",
            "    variables(dimensions): int32 num_days(num_days), int32 CAL(num_DEFRA_reaches), int32 DEFRA_reaches(num_DEFRA_reaches), int64 DEFRA_reach_id(num_DEFRA_reaches), float64 DEFRA_flow_duration_q(num_DEFRA_reaches, probability), float64 DEFRA_max_q(num_DEFRA_reaches), float64 DEFRA_monthly_q(num_DEFRA_reaches, num_months), float64 DEFRA_mean_q(num_DEFRA_reaches), float64 DEFRA_min_q(num_DEFRA_reaches), float64 DEFRA_two_year_return_q(num_DEFRA_reaches), |S1 DEFRA_id(num_DEFRA_reaches, nchars), float64 DEFRA_q(num_DEFRA_reaches, num_days), float64 DEFRA_qt(num_DEFRA_reaches, num_days)\n",
            "    groups: }\n"
          ]
        }
      ]
    },
    {
      "cell_type": "code",
      "source": [
        "# Display the module groups\n",
        "print(\"Results Groups:\")\n",
        "print(results.groups)"
      ],
      "metadata": {
        "colab": {
          "base_uri": "https://localhost:8080/"
        },
        "id": "XoJxJrBOB0M9",
        "outputId": "4042764b-d6d9-4fcc-f2b5-deb591bfa653"
      },
      "execution_count": 14,
      "outputs": [
        {
          "output_type": "stream",
          "name": "stdout",
          "text": [
            "Results Groups:\n",
            "{'reaches': <class 'netCDF4.Group'>\n",
            "group /reaches:\n",
            "    dimensions(sizes): \n",
            "    variables(dimensions): int64 reach_id(num_reaches), float64 x(num_reaches), float64 y(num_reaches), <class 'str'> river_name(num_reaches), int32 observations(num_reaches), float64 time(num_reaches)\n",
            "    groups: , 'nodes': <class 'netCDF4.Group'>\n",
            "group /nodes:\n",
            "    dimensions(sizes): \n",
            "    variables(dimensions): int64 node_id(num_nodes), int64 reach_id(num_nodes), float64 x(num_nodes), float64 y(num_nodes), <class 'str'> river_name(num_nodes), int32 observations(num_nodes), float64 time(num_nodes)\n",
            "    groups: , 'hivdi': <class 'netCDF4.Group'>\n",
            "group /hivdi:\n",
            "    dimensions(sizes): \n",
            "    variables(dimensions): float64 Q(num_reaches), float64 A0(num_reaches), float64 beta(num_reaches), float64 alpha(num_reaches)\n",
            "    groups: , 'metroman': <class 'netCDF4.Group'>\n",
            "group /metroman:\n",
            "    dimensions(sizes): \n",
            "    variables(dimensions): float64 allq(num_reaches), float64 A0hat(num_reaches), float64 nahat(num_reaches), float64 x1hat(num_reaches), float64 q_u(num_reaches)\n",
            "    groups: , 'moi': <class 'netCDF4.Group'>\n",
            "group /moi:\n",
            "    dimensions(sizes): \n",
            "    variables(dimensions): \n",
            "    groups: geobam, hivdi, metroman, momma, sad, sic4dvar, 'momma': <class 'netCDF4.Group'>\n",
            "group /momma:\n",
            "    dimensions(sizes): \n",
            "    variables(dimensions): float64 stage(num_reaches), float64 width(num_reaches), float64 slope(num_reaches), float64 Qgage(num_reaches), float64 seg(num_reaches), float64 n(num_reaches), float64 Y(num_reaches), float64 v(num_reaches), float64 Q(num_reaches), float64 Q_constrained(num_reaches), float64 gage_constrained(num_reaches), float64 input_Qm_prior(num_reaches), float64 input_Qb_prior(num_reaches), float64 input_Yb_prior(num_reaches), float64 input_known_ezf(num_reaches), float64 input_known_bkfl_stage(num_reaches), float64 input_known_nb_seg1(num_reaches), float64 input_known_x_seg1(num_reaches), float64 Qgage_constrained_nb_seg1(num_reaches), float64 Qgage_constrained_x_seg1(num_reaches), float64 input_known_nb_seg2(num_reaches), float64 input_known_x_seg2(num_reaches), float64 Qgage_constrained_nb_seg2(num_reaches), float64 Qgage_constrained_x_seg2(num_reaches), float64 n_bkfl_Qb_prior(num_reaches), float64 n_bkfl_slope(num_reaches), float64 vel_bkfl_Qb_prior(num_reaches), float64 Froude_bkfl_diag_Smean(num_reaches), float64 width_bkfl_solved_obs(num_reaches), float64 depth_bkfl_solved_obs(num_reaches), float64 depth_bkfl_diag_Wb_Smean(num_reaches), float64 zero_flow_stage(num_reaches), float64 bankfull_stage(num_reaches), float64 Qmean_prior(num_reaches), float64 Qmean_momma(num_reaches), float64 Qmean_momma.constrained(num_reaches), float64 width_stage_corr(num_reaches)\n",
            "    groups: , 'neobam': <class 'netCDF4.Group'>\n",
            "group /neobam:\n",
            "    dimensions(sizes): \n",
            "    variables(dimensions): \n",
            "    groups: r, logn, logDb, logWb, q, 'offline': <class 'netCDF4.Group'>\n",
            "group /offline:\n",
            "    dimensions(sizes): \n",
            "    variables(dimensions): float64 d_x_area(num_reaches), float64 d_x_area_u(num_reaches), float64 metro_q_c(num_reaches), float64 bam_q_c(num_reaches), float64 hivdi_q_c(num_reaches), float64 momma_q_c(num_reaches), float64 sads_q_c(num_reaches), float64 consensus_q_c(num_reaches), float64 metro_q_uc(num_reaches), float64 bam_q_uc(num_reaches), float64 hivdi_q_uc(num_reaches), float64 momma_q_uc(num_reaches), float64 sads_q_uc(num_reaches), float64 consensus_q_uc(num_reaches)\n",
            "    groups: , 'postdiagnostics': <class 'netCDF4.Group'>\n",
            "group /postdiagnostics:\n",
            "    dimensions(sizes): nchar(10)\n",
            "    variables(dimensions): \n",
            "    groups: basin, reach, 'prediagnostics': <class 'netCDF4.Group'>\n",
            "group /prediagnostics:\n",
            "    dimensions(sizes): \n",
            "    variables(dimensions): \n",
            "    groups: reach, node, 'sad': <class 'netCDF4.Group'>\n",
            "group /sad:\n",
            "    dimensions(sizes): \n",
            "    variables(dimensions): float64 A0(num_reaches), float64 n(num_reaches), float64 Qa(num_reaches), float64 Q_u(num_reaches)\n",
            "    groups: , 'sic4dvar': <class 'netCDF4.Group'>\n",
            "group /sic4dvar:\n",
            "    dimensions(sizes): \n",
            "    variables(dimensions): float64 A0(num_reaches), float64 n(num_reaches), float64 Q_mm(num_reaches), float64 Q_da(num_reaches)\n",
            "    groups: , 'validation': <class 'netCDF4.Group'>\n",
            "group /validation:\n",
            "    dimensions(sizes): num_algos(14), nchar(16)\n",
            "    variables(dimensions): |S1 algo_names(num_reaches, num_algos, nchar), int32 has_validation(num_reaches), float64 nse(num_reaches, num_algos), float64 rsq(num_reaches, num_algos), float64 kge(num_reaches, num_algos), float64 rmse(num_reaches, num_algos), float64 testn(num_reaches, num_algos), float64 nrmse(num_reaches, num_algos), float64 nbias(num_reaches, num_algos), float64 rrmse(num_reaches, num_algos)\n",
            "    groups: }\n"
          ]
        }
      ]
    },
    {
      "cell_type": "code",
      "source": [
        "reaches = results.groups['reaches']    # Access the reaches group\n",
        "\n",
        "print(\"Reaches Group\")\n",
        "print(reaches, \"\\n\")\n",
        "\n",
        "print(\"Longitude\")\n",
        "print(reaches.variables['x'])\n",
        "\n"
      ],
      "metadata": {
        "colab": {
          "base_uri": "https://localhost:8080/"
        },
        "id": "JZxKA6guB4Kl",
        "outputId": "f4c421ab-0c81-4eaa-f50f-c14e9d907c3b"
      },
      "execution_count": 15,
      "outputs": [
        {
          "output_type": "stream",
          "name": "stdout",
          "text": [
            "Reaches Group\n",
            "<class 'netCDF4.Group'>\n",
            "group /reaches:\n",
            "    dimensions(sizes): \n",
            "    variables(dimensions): int64 reach_id(num_reaches), float64 x(num_reaches), float64 y(num_reaches), <class 'str'> river_name(num_reaches), int32 observations(num_reaches), float64 time(num_reaches)\n",
            "    groups:  \n",
            "\n",
            "Longitude\n",
            "<class 'netCDF4.Variable'>\n",
            "float64 x(num_reaches)\n",
            "    long_name: longitude\n",
            "    comment: longitude of the reach center decimal ranging from 180°E to 180°W\n",
            "    units: degrees_east\n",
            "    valid_min: -180.0\n",
            "    valid_max: 180.0\n",
            "    coverage_content_type: coordinate\n",
            "path = /reaches\n",
            "unlimited dimensions: \n",
            "current shape = (30768,)\n",
            "filling on, default _FillValue of 9.969209968386869e+36 used\n"
          ]
        }
      ]
    },
    {
      "cell_type": "code",
      "source": [
        "# Unpack the spatial coordinates and river names\n",
        "reach_lon = results.groups['reaches'].variables['x']\n",
        "reach_lat = results.groups['reaches'].variables['y']\n",
        "\n",
        "river_names = results.groups['reaches'].variables['river_name']\n",
        "\n",
        "# Filter data to only find the river of interest\n",
        "idx = np.where(river_names[:] == RIVER_NAME)\n",
        "print(f\"Indexes for {RIVER_NAME}:\\n {idx}\")"
      ],
      "metadata": {
        "colab": {
          "base_uri": "https://localhost:8080/"
        },
        "id": "z0drVAlpB8dJ",
        "outputId": "0dcc61ac-382d-4054-d344-bc74c5998258"
      },
      "execution_count": 16,
      "outputs": [
        {
          "output_type": "stream",
          "name": "stdout",
          "text": [
            "Indexes for Rhine:\n",
            " (array([12597, 12598, 12599, 12600, 12601, 12602, 12603, 12606, 12616,\n",
            "       12617, 12618, 12619, 12620, 12621, 12622, 12623, 12624, 12625,\n",
            "       12626, 12627, 12628, 12629, 12630, 12631, 12634, 12635, 12636,\n",
            "       12638, 12639, 12640, 12769, 12918, 12919, 12920, 12923, 12924,\n",
            "       12925, 12926, 12931, 12932, 12933, 12938, 12939, 12940, 12941,\n",
            "       12942, 12943, 12944, 13098, 13099, 13100, 13101, 13102, 13152,\n",
            "       13153, 13154, 13155, 13156, 13157, 13158, 13159, 13160, 13161,\n",
            "       13162, 13163, 13164, 13165, 13166, 13168, 13169, 13170, 13172,\n",
            "       13173, 13174, 13175, 13176, 13177, 13178, 13179, 13180, 13181,\n",
            "       13182, 13183, 13184, 13185, 13186, 13187, 13188, 13189, 13190,\n",
            "       13191, 13192, 13193, 13194, 13195, 13196, 13197, 13198, 13199,\n",
            "       13200, 13201, 13202, 13204, 13205, 13206, 13207, 13208, 13316,\n",
            "       13317, 13319, 13324, 13325, 13326, 13327, 13328, 13329, 13330,\n",
            "       13331, 13332, 13333, 13334, 13335, 13336, 13337, 13339, 13340,\n",
            "       13341, 13342, 13343, 13345, 13346, 13362, 13363, 13364, 13365,\n",
            "       13366, 13367, 13368, 13369, 13370, 13371, 13372, 13373, 13374,\n",
            "       13375, 13385]),)\n"
          ]
        }
      ]
    },
    {
      "cell_type": "code",
      "source": [
        "# Plot the location of the river\n",
        "fig = plt.figure(figsize=(10,10))\n",
        "\n",
        "# Add map elements gridlines\n",
        "ax = plt.axes(projection=ccrs.PlateCarree())\n",
        "ax.coastlines()\n",
        "ax.add_feature(cfeature.STATES, edgecolor='black')\n",
        "\n",
        "gl = ax.gridlines(crs=ccrs.PlateCarree(), linewidth=1, color='black', alpha=0.5, linestyle='--', draw_labels=True)\n",
        "gl.xlabels_top = False\n",
        "gl.ylabels_left = True\n",
        "gl.ylabels_right=False\n",
        "gl.xlines = True\n",
        "\n",
        "gl.xformatter = LONGITUDE_FORMATTER\n",
        "gl.yformatter = LATITUDE_FORMATTER\n",
        "\n",
        "# Plot the river reach centerpoint locations\n",
        "ax.scatter(reach_lon[idx], y=reach_lat[idx], color='c')\n",
        "\n",
        "# Add the title\n",
        "plt.title(f'{RIVER_NAME} Reach Centerpoint Locations')\n"
      ],
      "metadata": {
        "colab": {
          "base_uri": "https://localhost:8080/",
          "height": 978
        },
        "id": "_xdliXqBCAnC",
        "outputId": "948f55fd-cb5c-474e-bfe1-63e2a24b5366"
      },
      "execution_count": 17,
      "outputs": [
        {
          "output_type": "execute_result",
          "data": {
            "text/plain": [
              "Text(0.5, 1.0, 'Rhine Reach Centerpoint Locations')"
            ]
          },
          "metadata": {},
          "execution_count": 17
        },
        {
          "output_type": "stream",
          "name": "stderr",
          "text": [
            "/usr/local/lib/python3.11/dist-packages/cartopy/io/__init__.py:241: DownloadWarning: Downloading: https://naturalearth.s3.amazonaws.com/10m_physical/ne_10m_coastline.zip\n",
            "  warnings.warn(f'Downloading: {url}', DownloadWarning)\n",
            "/usr/local/lib/python3.11/dist-packages/cartopy/io/__init__.py:241: DownloadWarning: Downloading: https://naturalearth.s3.amazonaws.com/10m_cultural/ne_10m_admin_1_states_provinces_lakes.zip\n",
            "  warnings.warn(f'Downloading: {url}', DownloadWarning)\n"
          ]
        },
        {
          "output_type": "display_data",
          "data": {
            "text/plain": [
              "<Figure size 1000x1000 with 1 Axes>"
            ],
            "image/png": "[encoded data removed]"
          },
          "metadata": {}
        }
      ]
    },
    {
      "cell_type": "code",
      "source": [
        "# Locate the indexes for the specific river you are interested in\n",
        "river_names = results['reaches']['river_name'][:]\n",
        "reach_idx = np.where(river_names[:] == RIVER_NAME)\n",
        "\n",
        "# Locate the reach identifiers for the river name\n",
        "reach_identifiers = results['reaches']['reach_id'][reach_idx]\n",
        "\n",
        "# Locate the reach identifiers of interest on the node-level\n",
        "reach_node_identifiers = results['nodes']['reach_id'][:]\n",
        "node_idx = []\n",
        "for reach_identifier in reach_identifiers:\n",
        "    node_idx.extend(np.where(reach_node_identifiers == reach_identifier)[0])\n",
        "\n",
        "# Locate the node identifiers of interest using the reach identifiers to index\n",
        "node_identifiers = results['nodes']['node_id'][:]\n",
        "print(f\"Node identifiers: {node_identifiers}\")"
      ],
      "metadata": {
        "colab": {
          "base_uri": "https://localhost:8080/"
        },
        "id": "z25j2vx1CIi5",
        "outputId": "5ca1b566-071f-45fc-eb08-40f51ea57174"
      },
      "execution_count": 18,
      "outputs": [
        {
          "output_type": "stream",
          "name": "stdout",
          "text": [
            "Node identifiers: [21101200010013 21101200010023 21101200010033 ... 29690900020221\n",
            " 29690900020231 29690900030746]\n"
          ]
        }
      ]
    },
    {
      "cell_type": "code",
      "source": [
        "# Unpack the spatial coordinates on the node level and index to values of interest\n",
        "node_lon = results['nodes']['x'][node_idx]\n",
        "node_lat = results['nodes']['y'][node_idx]\n",
        "print(f\"Longitude #: {node_lon.shape}\")\n",
        "print(f\"Latitude #: {node_lat.shape}\")"
      ],
      "metadata": {
        "colab": {
          "base_uri": "https://localhost:8080/"
        },
        "id": "iitqgbXnCNBl",
        "outputId": "4aac931a-bf5a-4fb8-8a71-1b93180c5373"
      },
      "execution_count": 19,
      "outputs": [
        {
          "output_type": "stream",
          "name": "stdout",
          "text": [
            "Longitude #: (4620,)\n",
            "Latitude #: (4620,)\n"
          ]
        }
      ]
    },
    {
      "cell_type": "code",
      "source": [
        "# Plot the nodes\n",
        "fig = plt.figure(figsize=(10,10))\n",
        "\n",
        "# Add map elements gridlines\n",
        "ax = plt.axes(projection=ccrs.PlateCarree())\n",
        "ax.coastlines()\n",
        "ax.add_feature(cfeature.STATES, edgecolor='black')\n",
        "\n",
        "gl = ax.gridlines(crs=ccrs.PlateCarree(), linewidth=1, color='black', alpha=0.5, linestyle='--', draw_labels=True)\n",
        "gl.xlabels_top = False\n",
        "gl.ylabels_left = True\n",
        "gl.ylabels_right=False\n",
        "gl.xlines = True\n",
        "\n",
        "gl.xformatter = LONGITUDE_FORMATTER\n",
        "gl.yformatter = LATITUDE_FORMATTER\n",
        "\n",
        "# Plot the river reach centerpoint locations\n",
        "ax.scatter(x=node_lon, y=node_lat)\n",
        "\n",
        "# Add the title\n",
        "plt.title(f'{RIVER_NAME} Node Centerpoint Locations')\n",
        "\n"
      ],
      "metadata": {
        "colab": {
          "base_uri": "https://localhost:8080/",
          "height": 888
        },
        "id": "pTjoM-QQCQxE",
        "outputId": "ed61e98f-d0e7-4a1f-8d02-2f084506e11b"
      },
      "execution_count": 20,
      "outputs": [
        {
          "output_type": "execute_result",
          "data": {
            "text/plain": [
              "Text(0.5, 1.0, 'Rhine Node Centerpoint Locations')"
            ]
          },
          "metadata": {},
          "execution_count": 20
        },
        {
          "output_type": "display_data",
          "data": {
            "text/plain": [
              "<Figure size 1000x1000 with 1 Axes>"
            ],
            "image/png": "[encoded data removed]"
          },
          "metadata": {}
        }
      ]
    },
    {
      "cell_type": "code",
      "source": [
        "# Retrieve discharge from discharge algorithm group\n",
        "discharge_algo_q = results[DISCHARGE_ALGORITHM][DISCHARGE_VARIABLE][:]\n",
        "\n",
        "# Save the missing value\n",
        "missing = results[DISCHARGE_ALGORITHM][DISCHARGE_VARIABLE].missing_value\n",
        "\n",
        "# Loop through each reach and filter out places where the missing value is present\n",
        "data_indexes = []\n",
        "for i in range(discharge_algo_q.shape[0]):\n",
        "    if discharge_algo_q[i].shape[0] > 1:\n",
        "        if np.any(discharge_algo_q[i] != missing): data_indexes.append(i) # For multiple time steps with non-missing values\n",
        "    if discharge_algo_q[i].shape[0] == 1 and discharge_algo_q[i] != missing: data_indexes.append(i)  # For one time step with non-missing value\n",
        "\n",
        "# Display the numeric indexes where discharge data is present\n",
        "print(f\"10 indexes for locations that have values:\\n {data_indexes[:10]}\")\n",
        "\n"
      ],
      "metadata": {
        "colab": {
          "base_uri": "https://localhost:8080/"
        },
        "id": "o2gqGzOXCUu_",
        "outputId": "9fe5a93b-47ef-4a94-a1cc-9eb536b52f4f"
      },
      "execution_count": 21,
      "outputs": [
        {
          "output_type": "stream",
          "name": "stdout",
          "text": [
            "10 indexes for locations that have values:\n",
            " [12635, 12636, 12639, 12769, 12773, 12919, 12922, 12925, 12930, 12931]\n"
          ]
        }
      ]
    },
    {
      "cell_type": "code",
      "source": [
        "reach_identifiers = results['reaches']['reach_id'][data_indexes]\n",
        "print(f\"10 reach identifiers for locations that have values:\\n {reach_identifiers[:10]}\")"
      ],
      "metadata": {
        "colab": {
          "base_uri": "https://localhost:8080/"
        },
        "id": "vZkmmC8kCZYp",
        "outputId": "1ca7c535-2e2e-440d-f335-6e3e92d851d9"
      },
      "execution_count": 22,
      "outputs": [
        {
          "output_type": "stream",
          "name": "stdout",
          "text": [
            "10 reach identifiers for locations that have values:\n",
            " [23261000571 23261000581 23261000631 23262000011 23262000051 23263000021\n",
            " 23263000051 23263000081 23263000131 23263000141]\n"
          ]
        }
      ]
    },
    {
      "cell_type": "code",
      "source": [
        "# Review what river names are present in the data\n",
        "print(\"10 River Names\")\n",
        "print(river_names[data_indexes[:10]])\n",
        "\n",
        "river_indexes = np.where(river_names  == RIVER_NAME)\n",
        "print(f\"\\nIndexes for the {RIVER_NAME}\")\n",
        "print(river_indexes)\n",
        "\n",
        "# Locate overlap\n",
        "overlap_indexes = np.intersect1d(data_indexes, river_indexes)\n",
        "print(f\"\\nOverlapping indexes for the {RIVER_NAME} with {DISCHARGE_ALGORITHM.upper()} Discharge data\")\n",
        "print(overlap_indexes)"
      ],
      "metadata": {
        "colab": {
          "base_uri": "https://localhost:8080/"
        },
        "id": "yCfJXoAMCee9",
        "outputId": "ce1e182a-f1cf-492b-b223-2b85dd10cc42"
      },
      "execution_count": 23,
      "outputs": [
        {
          "output_type": "stream",
          "name": "stdout",
          "text": [
            "10 River Names\n",
            "['Rhine' 'Rhine' 'Rhine' 'Rhine' 'Mosel' 'Rhine' 'Lahn; Rhine' 'Rhine'\n",
            " 'Lahn' 'Rhine']\n",
            "\n",
            "Indexes for the Rhine\n",
            "(array([12597, 12598, 12599, 12600, 12601, 12602, 12603, 12606, 12616,\n",
            "       12617, 12618, 12619, 12620, 12621, 12622, 12623, 12624, 12625,\n",
            "       12626, 12627, 12628, 12629, 12630, 12631, 12634, 12635, 12636,\n",
            "       12638, 12639, 12640, 12769, 12918, 12919, 12920, 12923, 12924,\n",
            "       12925, 12926, 12931, 12932, 12933, 12938, 12939, 12940, 12941,\n",
            "       12942, 12943, 12944, 13098, 13099, 13100, 13101, 13102, 13152,\n",
            "       13153, 13154, 13155, 13156, 13157, 13158, 13159, 13160, 13161,\n",
            "       13162, 13163, 13164, 13165, 13166, 13168, 13169, 13170, 13172,\n",
            "       13173, 13174, 13175, 13176, 13177, 13178, 13179, 13180, 13181,\n",
            "       13182, 13183, 13184, 13185, 13186, 13187, 13188, 13189, 13190,\n",
            "       13191, 13192, 13193, 13194, 13195, 13196, 13197, 13198, 13199,\n",
            "       13200, 13201, 13202, 13204, 13205, 13206, 13207, 13208, 13316,\n",
            "       13317, 13319, 13324, 13325, 13326, 13327, 13328, 13329, 13330,\n",
            "       13331, 13332, 13333, 13334, 13335, 13336, 13337, 13339, 13340,\n",
            "       13341, 13342, 13343, 13345, 13346, 13362, 13363, 13364, 13365,\n",
            "       13366, 13367, 13368, 13369, 13370, 13371, 13372, 13373, 13374,\n",
            "       13375, 13385]),)\n",
            "\n",
            "Overlapping indexes for the Rhine with HIVDI Discharge data\n",
            "[12635 12636 12639 12769 12919 12925 12931 12932 12933 12938 12939 12940\n",
            " 12941 12942 12943 13098 13099 13100 13101 13102 13152 13153 13154 13155\n",
            " 13156 13157 13158 13159 13161 13162 13163 13164 13165 13168 13169 13174\n",
            " 13178 13180 13181 13189 13190 13191 13193 13195 13197 13207]\n"
          ]
        }
      ]
    },
    {
      "cell_type": "code",
      "source": [
        "# Select the first reach from the overlapping indexes\n",
        "data_index = overlap_indexes[0]\n",
        "\n",
        "# Locate the reach identifier\n",
        "reach_id = reaches['reach_id'][data_index]\n",
        "print(f\"{RIVER_NAME} reach identifier to plot: {reach_id}\")\n",
        "\n",
        "# Retrieve discharge\n",
        "discharge_algo_q = discharge_algo_q[data_index]\n",
        "print(f\"\\nDischarge for {RIVER_NAME} reach identifier # {reach_id}\")\n",
        "print(discharge_algo_q)\n",
        "\n",
        "# Retrieve time\n",
        "time = results['reaches']['time'][data_index]\n",
        "print(f\"\\nTime for {RIVER_NAME} reach identifier # {reach_id}\")\n",
        "print(results['reaches']['time'][data_index])"
      ],
      "metadata": {
        "colab": {
          "base_uri": "https://localhost:8080/"
        },
        "id": "UFHB_qVUCiws",
        "outputId": "a76a08ce-6b94-4759-e4e1-747efc4bc116"
      },
      "execution_count": 24,
      "outputs": [
        {
          "output_type": "stream",
          "name": "stdout",
          "text": [
            "Rhine reach identifier to plot: 23261000571\n",
            "\n",
            "Discharge for Rhine reach identifier # 23261000571\n",
            "[-1.00000000e+12 -1.00000000e+12 -1.00000000e+12 -1.00000000e+12\n",
            " -1.00000000e+12 -1.00000000e+12 -1.00000000e+12 -1.00000000e+12\n",
            " -1.00000000e+12  5.40782194e+01  4.99487494e+01  3.42913882e+01\n",
            "  3.44913537e+01]\n",
            "\n",
            "Time for Rhine reach identifier # 23261000571\n",
            "[7.34223036e+08 7.34308874e+08 7.34394712e+08 7.34909740e+08\n",
            " 7.34995578e+08 7.35081416e+08 7.35167254e+08 7.35253092e+08\n",
            " 7.35338929e+08 7.35510605e+08 7.35596443e+08 7.35682281e+08\n",
            " 7.35768119e+08]\n"
          ]
        }
      ]
    },
    {
      "cell_type": "code",
      "source": [
        "# Transform time to correct format\n",
        "swot_ts = datetime.datetime(2000,1,1,0,0,0)\n",
        "missing_time = results['reaches']['time'].missing_value\n",
        "time_str = []\n",
        "for t in time:\n",
        "    if t == missing_time:\n",
        "        time_str.append('NO_DATA')\n",
        "    else:\n",
        "        time_str.append((swot_ts + datetime.timedelta(seconds=t)).strftime('%Y-%m-%dT%H:%M:%S'))\n",
        "time_str = np.array(time_str)\n",
        "print(f\"Formatted time: {time_str}\")"
      ],
      "metadata": {
        "colab": {
          "base_uri": "https://localhost:8080/"
        },
        "id": "46TIoFJWCmgE",
        "outputId": "f2c250ff-450d-4d3e-df86-4569cea845f2"
      },
      "execution_count": 25,
      "outputs": [
        {
          "output_type": "stream",
          "name": "stdout",
          "text": [
            "Formatted time: ['2023-04-07T22:50:35' '2023-04-08T22:41:13' '2023-04-09T22:31:52'\n",
            " '2023-04-15T21:35:40' '2023-04-16T21:26:18' '2023-04-17T21:16:56'\n",
            " '2023-04-18T21:07:33' '2023-04-19T20:58:11' '2023-04-20T20:48:49'\n",
            " '2023-04-22T20:30:05' '2023-04-23T20:20:43' '2023-04-24T20:11:21'\n",
            " '2023-04-25T20:01:58']\n"
          ]
        }
      ]
    },
    {
      "cell_type": "code",
      "source": [
        "# Filter any missing values out of reach identifier discharge and time\n",
        "missing_reach_index = np.where(discharge_algo_q != missing)\n",
        "\n",
        "discharge_algo_q = discharge_algo_q[missing_reach_index]\n",
        "print(f\"Discharge for {RIVER_NAME} reach identfier # {reach_id}\")\n",
        "print(discharge_algo_q)\n",
        "\n",
        "time_str = time_str[missing_reach_index]\n",
        "print(f\"\\nTime for {RIVER_NAME} reach identfier # {reach_id}\")\n",
        "print(time_str)"
      ],
      "metadata": {
        "colab": {
          "base_uri": "https://localhost:8080/"
        },
        "id": "md9oGsIkCq_0",
        "outputId": "5aed6309-d34f-4e07-d4f5-f6faaa678447"
      },
      "execution_count": 26,
      "outputs": [
        {
          "output_type": "stream",
          "name": "stdout",
          "text": [
            "Discharge for Rhine reach identfier # 23261000571\n",
            "[54.07821944 49.94874936 34.29138816 34.49135369]\n",
            "\n",
            "Time for Rhine reach identfier # 23261000571\n",
            "['2023-04-22T20:30:05' '2023-04-23T20:20:43' '2023-04-24T20:11:21'\n",
            " '2023-04-25T20:01:58']\n"
          ]
        }
      ]
    },
    {
      "cell_type": "code",
      "source": [
        "# Plot Discharge for the River Reach Identifier\n",
        "\n",
        "# Set up plot\n",
        "fig = plt.figure(figsize=(10,5))\n",
        "ax1 = plt.subplot(311)\n",
        "\n",
        "# Plot data\n",
        "ax1.scatter(time_str, discharge_algo_q)\n",
        "ax1.plot(time_str, discharge_algo_q)\n",
        "\n",
        "# Define labels and title\n",
        "ax1.set_ylabel('Discharge')\n",
        "ax1.set_xlabel('Time')\n",
        "plt.xticks(rotation = 45)\n",
        "\n",
        "plt.suptitle(f\"Discharge Timeseries from HIVDI for the Ohio River reach identifier: {reach_id}.\")"
      ],
      "metadata": {
        "colab": {
          "base_uri": "https://localhost:8080/",
          "height": 362
        },
        "id": "ZwIzwDfhCuoG",
        "outputId": "2d5275ed-1b05-46bb-ab41-e2b6d1a622e1"
      },
      "execution_count": 27,
      "outputs": [
        {
          "output_type": "execute_result",
          "data": {
            "text/plain": [
              "Text(0.5, 0.98, 'Discharge Timeseries from HIVDI for the Ohio River reach identifier: 23261000571.')"
            ]
          },
          "metadata": {},
          "execution_count": 27
        },
        {
          "output_type": "display_data",
          "data": {
            "text/plain": [
              "<Figure size 1000x500 with 1 Axes>"
            ],
            "image/png": "[encoded data removed]"
          },
          "metadata": {}
        }
      ]
    },
    {
      "cell_type": "code",
      "source": [
        "# Locate MOI discharge results for discharge algorithm making sure to filter out missing values\n",
        "moi_q = results[\"moi\"][DISCHARGE_ALGORITHM][\"q\"][data_index]\n",
        "moi_q = moi_q[missing_reach_index]\n",
        "\n",
        "print(f\"{DISCHARGE_ALGORITHM.upper()} MOI Discharge for {RIVER_NAME} reach identfier # {reach_id}\")\n",
        "print(moi_q)"
      ],
      "metadata": {
        "colab": {
          "base_uri": "https://localhost:8080/"
        },
        "id": "dA8ndW65CzvW",
        "outputId": "4528fddf-e07f-47f0-adbc-5bf1b26dc341"
      },
      "execution_count": 28,
      "outputs": [
        {
          "output_type": "stream",
          "name": "stdout",
          "text": [
            "HIVDI MOI Discharge for Rhine reach identfier # 23261000571\n",
            "[0.0009796  0.00062748 0.00012596 0.00014881]\n"
          ]
        }
      ]
    },
    {
      "cell_type": "code",
      "source": [
        "# Plot discharge algorithm alongside MOI discharge\n",
        "\n",
        "# Discharge algorithm Q\n",
        "plt.scatter(time_str, discharge_algo_q)\n",
        "plt.plot(time_str, discharge_algo_q, label=f\"{DISCHARGE_ALGORITHM.upper()}\")\n",
        "\n",
        "# MOI Q\n",
        "plt.scatter(time_str, moi_q)\n",
        "plt.plot(time_str, moi_q, label=\"MOI\")\n",
        "\n",
        "plt.suptitle(f\"Discharge Timeseries from HIVDI for the {RIVER_NAME} reach identifier: {reach_id}.\")\n",
        "plt.legend()\n",
        "plt.tight_layout()"
      ],
      "metadata": {
        "colab": {
          "base_uri": "https://localhost:8080/",
          "height": 492
        },
        "id": "h_7gNLyxC4s4",
        "outputId": "9c3ca040-1a20-4d61-8743-b8a729d05347"
      },
      "execution_count": 29,
      "outputs": [
        {
          "output_type": "display_data",
          "data": {
            "text/plain": [
              "<Figure size 640x480 with 1 Axes>"
            ],
            "image/png": "[encoded data removed]"
          },
          "metadata": {}
        }
      ]
    }
  ]
}